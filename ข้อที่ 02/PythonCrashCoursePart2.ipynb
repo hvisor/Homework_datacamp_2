{
  "cells": [
    {
      "cell_type": "code",
      "execution_count": 1,
      "metadata": {},
      "outputs": [
        {
          "output_type": "stream",
          "name": "stdout",
          "text": "เลขคี่\n"
        }
      ],
      "source": [
        "# 1. เขียนโปรแกรมรับ input จากผู้ใช้ 1 ตัว แปลงให้เป็น int และตรวจสอบว่าเป็นเลขคู่หรือเลขคี่ \n",
        "# \t- หากเป็นเลขคู่ ให้พิมพ์ว่า เลขคู่\n",
        "# \t- หากเป็นเลขคี่ ให้พิมพ์ว่า เลขคี่\n",
        "# \t- หากเป็นเลขศูนย์ให้พิมพ์ว่า เลขศูนย์\n",
        "vInput = int(input())\n",
        "if (vInput==0):\n",
        "    print('เลขศูนย์')\n",
        "elif (vInput%2==0):\n",
        "    print('เลขคู่')\n",
        "else:\n",
        "    print('เลขคี่')\n"
      ]
    },
    {
      "cell_type": "code",
      "execution_count": 2,
      "metadata": {},
      "outputs": [
        {
          "output_type": "stream",
          "name": "stdout",
          "text": "1.0\n"
        }
      ],
      "source": [
        "# 2. เขียนโปรแกรมรับค่า input 2 ตัว ในรูปแบบ float โดยให้ตัวแรกเป็นตัวตั้ง ตัวที่สองเป็นตัวหาร\n",
        "# \t- หาผลลัพธ์ของการหาร\n",
        "# \t- ใส่เลขทศนิยมได้\n",
        "# \t- ถ้าตัวหารเป็น 0 ให้รับค่าใหม่จนกว่าจะเป็นเลขที่หารได้  \n",
        "\n",
        "vInput1 = float(input('ตัวตั้ง :'))\n",
        "vInput2 = 0\n",
        "while vInput2 == 0:\n",
        "    vInput2 = float(input('ตัวหาร (ต้องไม่ใช่ 0):'))\n",
        "print(vInput1/vInput2)"
      ]
    },
    {
      "cell_type": "code",
      "execution_count": 3,
      "metadata": {},
      "outputs": [
        {
          "output_type": "stream",
          "name": "stdout",
          "text": "3.0\n"
        }
      ],
      "source": [
        "# 3. เขียนโปรแกรม infinity while loop โดยรับค่า input มาเรื่อยๆ จนกว่าผู้ใช้จะใส่เลข 0 และนำเลขทั้งหมดมาหาค่าเฉลี่ย\n",
        "\n",
        "from functools import reduce\n",
        "\n",
        "lst = []\n",
        "vInput2 = 1\n",
        "while vInput2 != 0:\n",
        "    vInput2 = float(input('Input Number :'))\n",
        "    if(vInput2!=0):\n",
        "        lst.append(vInput2)\n",
        "\n",
        "result = reduce((lambda x, y: x+y), lst)\n",
        "print(result/len(lst))\n"
      ]
    },
    {
      "cell_type": "code",
      "execution_count": 4,
      "metadata": {},
      "outputs": [
        {
          "output_type": "stream",
          "name": "stdout",
          "text": "หาร 7 ลงตัว\n"
        }
      ],
      "source": [
        "# 4. เขียนโปรมแกรมรับค่า input ที่เป็น integer มาหนึ่งตัว ตรวจสอบว่าเลขนั้นหาร 7 ลงตัวหรือไม่\n",
        "# \t- ถ้าหารลงตัว ให้ปริ้น ‘หาร 7 ลงตัว’\n",
        "#     - ถ้าหารไม่ลงตัว ให้ปริ้น ‘หาร 7 ไม่ลงตัว’\n",
        "\n",
        "vInput1 = int(input('Input Number :'))\n",
        "if (vInput1%7==0):\n",
        "    print('หาร 7 ลงตัว')\n",
        "else:\n",
        "    print('หาร 7 ไม่ลงตัว')"
      ]
    },
    {
      "cell_type": "code",
      "execution_count": 28,
      "metadata": {},
      "outputs": [
        {
          "output_type": "stream",
          "name": "stdout",
          "text": "เป็น สามเหลี่ยมมุมฉาก\n"
        }
      ],
      "source": [
        "# 5. เขียนโปรแกรมรับค่า int มา 3 จำนวน และตรวจสอบว่า 3 เลขนั้นสามารถนำมาสร้าง 3 เหลี่ยมมุมฉากได้หรือไม่\n",
        "\n",
        "numbers = []\n",
        "numbers.append(int(input('Input Number 1:')))\n",
        "numbers.append(int(input('Input Number 2:')))\n",
        "numbers.append(int(input('Input Number 3:')))\n",
        "numbers.sort() \n",
        "\n",
        "a = numbers[0]\n",
        "b = numbers[1]\n",
        "c = numbers[2]\n",
        "if((a**2 + b**2) == (c**2)):\n",
        "    print('เป็น สามเหลี่ยมมุมฉาก')\n",
        "else:\n",
        "    print('ไม่เป็น สามเหลี่ยมมุมฉาก')\n"
      ]
    },
    {
      "cell_type": "code",
      "execution_count": 30,
      "metadata": {},
      "outputs": [
        {
          "output_type": "stream",
          "name": "stdout",
          "text": "เป็น สามเหลี่ยมมุมแหลม\n"
        }
      ],
      "source": [
        "# 6. เขียนโปรแกรมรับค่า int มา 3 จำนวน และตรวจสอบว่าเมื่อนำ 3 เลขนั้นมาสร้าง 3 เหลี่ยม จะได้สามเหลี่ยมแบบใด\n",
        "# \t- สามเหลี่ยมมุมแหลม\n",
        "# \t- สามเหลี่ยมมุมป้าน\n",
        "# \t- สามเหลี่ยมมุมฉาก\n",
        "\n",
        "numbers = []\n",
        "numbers.append(int(input('Input Number 1:')))\n",
        "numbers.append(int(input('Input Number 2:')))\n",
        "numbers.append(int(input('Input Number 3:')))\n",
        "numbers.sort() \n",
        "\n",
        "a = numbers[0]\n",
        "b = numbers[1]\n",
        "c = numbers[2]\n",
        "if((a**2 + b**2) == (c**2)):\n",
        "    print('เป็น สามเหลี่ยมมุมฉาก')\n",
        "elif((a**2 + b**2) > (c**2)):\n",
        "    print('เป็น สามเหลี่ยมมุมแหลม')\n",
        "elif((a**2 + b**2) < (c**2)):\n",
        "    print('เป็น สามเหลี่ยมมุมป้าน')\n",
        "else:\n",
        "    print('ไม่เป็น สามเหลี่ยม')\n"
      ]
    },
    {
      "cell_type": "code",
      "execution_count": 1,
      "metadata": {},
      "outputs": [
        {
          "output_type": "stream",
          "name": "stdout",
          "text": "ราคาอาหาร : 11000.0 ส่วนลด : 15 % คงเหลือ : 9350.0\n"
        }
      ],
      "source": [
        "# 7. เขียนโปรแกรมให้รับค่าอาหาร 3 ครั้งที่ไปทานอาหารนอกบ้านล่าสุด โดยแต่ละครั้งต้องไม่ต่ำกว่า 1,000 และไม่เกิน 5,000 (ผู้ใช้ต้องใส่อยู่ในช่วงนี้) และนำค่าอาหารทั้ง 3 ครั้งมาบวกกัน หากเกิน 6,000 บาท จะได้รับส่วนลด 15% หากเกิน 12,000 จะได้รับส่วนลด 25% จงหายอดเงินสุดท้ายที่ต้องจ่าย\n",
        "\n",
        "from functools import reduce\n",
        "lst = []\n",
        "# print (lst)\n",
        "vInput2 = 0\n",
        "while (len(lst)<3):\n",
        "    vInput2 = float(input('ราคาอาหาร รายการ ที่ '+str(len(lst)+1)+' (1000 - 5000) :'))\n",
        "    if( vInput2 >= 1000 and vInput2 <= 5000):\n",
        "        lst.append(vInput2)\n",
        "        if(len(lst)==3):\n",
        "            break;\n",
        "   \n",
        "costFood = reduce((lambda x, y: x+y), lst)    \n",
        "discount = 0\n",
        "if(costFood > 12000):\n",
        "    discount = 25\n",
        "elif (costFood > 6000):\n",
        "    discount = 15\n",
        "else:\n",
        "    discount = 0\n",
        "\n",
        "TotalCost = costFood*(100-discount)/100\n",
        "\n",
        "print('ราคาอาหาร :',costFood, 'ส่วนลด :',discount, '% คงเหลือ :' ,TotalCost )\n"
      ]
    },
    {
      "cell_type": "code",
      "execution_count": 16,
      "metadata": {},
      "outputs": [
        {
          "output_type": "stream",
          "name": "stdout",
          "text": "รวมอาหาร 3 ครั้ง  15000.0  ราคาอาหาร ครั้งที่ 4: 5000.0 ส่วนลด : 25 % คงเหลือ : 3750.0\n"
        }
      ],
      "source": [
        "# 8. เขียนโปรแกรมให้รับค่าอาหาร 4 ครั้งที่ไปทานอาหารนอกบ้านล่าสุด โดยแต่ละครั้งต้องไม่ต่ำกว่า 1,000 และไม่เกิน 5,000 (ผู้ใช้ต้องใส่อยู่ในช่วงนี้) และนำค่าอาหาร 3 ครั้งแรกมาบวกกัน หากเกิน 6,000 บาท จะได้รับส่วนลด 15% หากเกิน 12,000 จะได้รับส่วนลด 25% ของมื้อที่ 4 จงหายอดเงินสุดท้ายที่ต้องจ่ายของมื้อที่ 4\n",
        "\n",
        "lst = []\n",
        "# print (lst)\n",
        "vInput2 = 0\n",
        "while (len(lst)<4):\n",
        "    vInput2 = float(input('ค่าอาหาร ครั้ง ที่ '+str(len(lst)+1)+' (1000 - 5000) :'))\n",
        "    if( vInput2 >= 1000 and vInput2 <= 5000):\n",
        "        lst.append(vInput2)\n",
        "        if(len(lst)==4):\n",
        "            break;\n",
        "\n",
        "SumCost = lst[0] + lst[1] + lst[2]\n",
        "Discount = 0\n",
        "if(SumCost > 12000):\n",
        "    Discount = 25\n",
        "elif(SumCost > 6000):\n",
        "    Discount = 15\n",
        "\n",
        "print('รวมอาหาร 3 ครั้ง ', SumCost, ' ราคาอาหาร ครั้งที่ 4:',lst[3], 'ส่วนลด :',Discount, '% คงเหลือ :' ,lst[3]*(100-Discount)/100 )\n"
      ]
    },
    {
      "cell_type": "code",
      "execution_count": 18,
      "metadata": {},
      "outputs": [
        {
          "output_type": "stream",
          "name": "stdout",
          "text": "รวมอาหาร 3 ครั้ง  15000.0  ราคาอาหาร ครั้งที่ 4: 5000.0 ส่วนลด : 30 % คงเหลือ : 3500.0\n"
        }
      ],
      "source": [
        "# 9. เขียนโปรแกรมให้รับค่าอาหาร 4 ครั้งที่ไปทานอาหารนอกบ้านล่าสุด โดยแต่ละครั้งต้องไม่ต่ำกว่า 1,000 และไม่เกิน 5,000 (เขียนให้ผู้ใช้ใส่ใหม่หากไม่อยู่ในช่วงที่กำหนด) และนำค่าอาหาร 3 ครั้งแรกมาบวกกัน หากเกิน 4,000 บาท จะได้รับส่วนลด 25% หากเกิน 9,000 จะได้รับส่วนลด 30% ของมื้อที่ 4 จงหายอดเงินสุดท้ายที่ต้องจ่ายของมื้อที่ 4\n",
        "\n",
        "lst = []\n",
        "# print (lst)\n",
        "vInput2 = 0\n",
        "while (len(lst)<4):\n",
        "    vInput2 = float(input('ค่าอาหาร ครั้ง ที่ '+str(len(lst)+1)+' (1000 - 5000) :'))\n",
        "    if( vInput2 >= 1000 and vInput2 <= 5000):\n",
        "        lst.append(vInput2)\n",
        "        if(len(lst)==4):\n",
        "            break;\n",
        "\n",
        "SumCost = lst[0] + lst[1] + lst[2]\n",
        "Discount = 0\n",
        "if(SumCost > 9000):\n",
        "    Discount = 30\n",
        "elif(SumCost > 4000):\n",
        "    Discount = 25\n",
        "\n",
        "print('รวมอาหาร 3 ครั้ง ', SumCost, ' ราคาอาหาร ครั้งที่ 4:',lst[3], 'ส่วนลด :',Discount, '% คงเหลือ :' ,lst[3]*(100-Discount)/100 )\n"
      ]
    },
    {
      "cell_type": "code",
      "execution_count": 22,
      "metadata": {},
      "outputs": [
        {
          "output_type": "stream",
          "name": "stdout",
          "text": "รวมอาหาร 3 ครั้ง  15000.0  ราคาอาหาร ครั้งที่ 4: 5000.0 ส่วนลด : 35 % คงเหลือ : 3250.0\n"
        }
      ],
      "source": [
        "# 10. เขียนโปรแกรมให้รับค่าอาหาร 4 ครั้งที่ไปทานอาหารนอกบ้านล่าสุด โดยแต่ละครั้งต้องไม่ต่ำกว่า 1,000 และไม่เกิน 5,000 (เขียนให้ผู้ใช้ใส่ใหม่หากไม่อยู่ในช่วงที่กำหนด) และถามผู้ใช้มีบัตรเครดิตหรือไม่(True/False) นำค่าอาหาร 3 ครั้งแรกมาบวกกัน หากเกิน 4,000 บาท จะได้รับส่วนลด 25% หากเกิน 9,000 จะได้รับส่วนลด 30% ของมื้อที่ 4 หากมีบัตรเครดิต ลดเพิ่มอีก 5%    จงหายอดเงินสุดท้ายที่ต้องจ่ายของมื้อที่ 4\n",
        "\n",
        "lst = []\n",
        "# print (lst)\n",
        "vInput2 = 0\n",
        "while (len(lst)<4):\n",
        "    vInput2 = float(input('ค่าอาหาร ครั้ง ที่ '+str(len(lst)+1)+' (1000 - 5000) :'))\n",
        "    if( vInput2 >= 1000 and vInput2 <= 5000):\n",
        "        lst.append(vInput2)\n",
        "        if(len(lst)==4):\n",
        "            break;\n",
        "\n",
        "SumCost = lst[0] + lst[1] + lst[2]\n",
        "Discount = 0\n",
        "if(SumCost > 9000):\n",
        "    Discount = 30\n",
        "elif(SumCost > 4000):\n",
        "    Discount = 25\n",
        "\n",
        "answer = input('Had credit card: [y/n]')\n",
        "if answer[0].lower() == 'y' or answer[0].upper() == 'y':\n",
        "    Discount = Discount + 5\n",
        "\n",
        "print('รวมอาหาร 3 ครั้ง ', SumCost, ' ราคาอาหาร ครั้งที่ 4:',lst[3], 'ส่วนลด :',Discount, '% คงเหลือ :' ,lst[3]*(100-Discount)/100 )\n",
        "\n"
      ]
    },
    {
      "cell_type": "code",
      "execution_count": null,
      "metadata": {},
      "outputs": [],
      "source": [
        "# 11. จงเขียนโปรแกรมรับ input ที่เป็นประโยคแบบ string ที่มีความยาวของคำไม่ต่ำกว่า 7 ตัวอักษรภาษาอังกฤษ(สมมติว่าเป็นคำเดียว) และมีพิมพ์ใหญ่พิมพ์เล็กปนกัน จากนั้นให้ตรวจสอบแต่ละอักษร ให้แปลงพิมพ์ใหญ่เป็นพิมพ์เล็ก และพิมพ์เล็กเป็นพิมพ์ใหญ่พร้อมกับปริ้นออกมา\n",
        "\n",
        "vString = ''\n",
        "newString = ''\n",
        "while len(vString) <= 7:\n",
        "    vString = input('Input String :')\n",
        "\n",
        "for element in vString: \n",
        "    if element.islower():\n",
        "        newString = newString + element.upper()\n",
        "    else:\n",
        "        newString = newString + element.lower()\n",
        "\n",
        "print(vString)\n",
        "print(newString)\n"
      ]
    },
    {
      "cell_type": "code",
      "execution_count": 115,
      "metadata": {},
      "outputs": [
        {
          "output_type": "stream",
          "name": "stdout",
          "text": "[[1, '1', 'input1'], [2, '22', 'input2'], [3, '333', 'input3'], [4, '4444', 'input4']]\nMax Lenght input4\nMax Lenght input3\nMax Lenght input2\nMax Lenght input1\nMin Lenght 1\nMin Lenght 22\nMin Lenght 333\nMin Lenght 4444\n"
        }
      ],
      "source": [
        "# 12. เขียนโปรแกรมรับ input 4 ตัวที่เป็น string จากนั้นตรวจสอบว่า input ใดมีความยาวมากที่สุด รองลงมา และน้อยที่สุด จากนั้น ปริ้นแต่ละ input ออกมาตามลำดับน้อยสุดไปมากสุด\n",
        "\n",
        "input1 = input('Input String 1 :')\n",
        "input2 = input('Input String 2 :')\n",
        "input3 = input('Input String 3 :')\n",
        "input4 = input('Input String 4 :')\n",
        "\n",
        "list1 = [len(input1),input1,'input1']\n",
        "list2 = [len(input2),input2,'input2']\n",
        "list3 = [len(input3),input3,'input3']\n",
        "list4 = [len(input4),input4,'input4']\n",
        "\n",
        "lst = []\n",
        "lst.append(list1)\n",
        "lst.append(list2)\n",
        "lst.append(list3)\n",
        "lst.append(list4)\n",
        "\n",
        "print(lst)\n",
        "\n",
        "lst.sort(reverse=True)\n",
        "\n",
        "for i in lst:\n",
        "    print('Max Lenght',i[2])\n",
        "\n",
        "lst.sort()\n",
        "\n",
        "for i in lst:\n",
        "    print('Min Lenght',i[1])\n",
        "\n"
      ]
    },
    {
      "cell_type": "code",
      "execution_count": 102,
      "metadata": {},
      "outputs": [
        {
          "output_type": "stream",
          "name": "stdout",
          "text": "จอดรถเป็นเวลา  2  Hrs : 1  Mins  เป็นเงิน  302\n"
        }
      ],
      "source": [
        "# 13. เขียนโปรแกรมรับ input สองตัวเป็นจำนวนเต็มระหว่าง 0-60 โดยตัวแรกเป็นชั่วโมงและตัวที่สองเป็นนาที คำนวณค่าที่จอดรถถ้าชั่วโมงละ 150 บาท เศษนาทีคิดเป็นนาทีละ 2 บาท\n",
        "\n",
        "nHour = 0\n",
        "nMinute = 0\n",
        "bHour = None\n",
        "bMinute = None\n",
        "while bHour == None:\n",
        "    nHour = int(input('Input Hour :'))\n",
        "    if (nHour >= 0 and nHour <= 60):\n",
        "        bHour = True\n",
        "while bMinute == None:\n",
        "    nMinute = int(input('Input Minute :'))\n",
        "    if (nMinute >= 0 and nMinute <= 60):\n",
        "        bMinute = True\n",
        "if(nMinute==60):\n",
        "    nHour = nHour + 1\n",
        "    nMinute = 0\n",
        "\n",
        "print('จอดรถเป็นเวลา ', nHour ,' Hrs :', nMinute, ' Mins', ' เป็นเงิน ', (nHour*150 + nMinute*2))\n"
      ]
    },
    {
      "cell_type": "code",
      "execution_count": 94,
      "metadata": {},
      "outputs": [
        {
          "output_type": "stream",
          "name": "stdout",
          "text": "จอดรถเป็นเวลา  1  Hrs : 2  Mins  เป็นเงิน  300\n"
        }
      ],
      "source": [
        "# 14. เขียนโปรแกรมรับ input สองตัวเป็นจำนวนเต็มระหว่าง 0-60 โดยตัวแรกเป็นชั่วโมงและตัวที่สองเป็นนาที คำนวณค่าที่จอดรถถ้าชั่วโมงละ 300 บาท เศษนาทีเกิน 15 นาทีคิดเป็นหนึ่งชั่วโมง หากไม่เกินไม่คิดเงิน และชั่วโมงแรกจอดฟรี\n",
        "\n",
        "pricePerHour = 300\n",
        "nHour = 0\n",
        "nMinute = 0\n",
        "bHour = None\n",
        "bMinute = None\n",
        "totalCost = 0\n",
        "costStep1 = 0\n",
        "costStep2 = 0\n",
        "while bHour == None:\n",
        "    nHour = int(input('Input Hour :'))\n",
        "    if (nHour >= 0 and nHour <= 60):\n",
        "        bHour = True\n",
        "while bMinute == None:\n",
        "    nMinute = int(input('Input Minute :'))\n",
        "    if (nMinute >= 0 and nMinute <= 60):\n",
        "        bMinute = True\n",
        "\n",
        "totalMinute = (nHour*60) + nMinute\n",
        "if (totalMinute <= 60):\n",
        "    totalCost = 0\n",
        "    print('จอดฟรี')\n",
        "else:\n",
        "    costStep1 = ((totalMinute-60)//60)*pricePerHour\n",
        "    if(totalMinute>60 and totalMinute <= 75):\n",
        "        costStep2 = pricePerHour\n",
        "    elif(totalMinute>75):\n",
        "        if((totalMinute-60)%60>15):\n",
        "            costStep2 = pricePerHour\n",
        "\n",
        "totalCost = costStep1 + costStep2\n",
        "\n",
        "print('จอดรถเป็นเวลา ', nHour ,' Hrs :', nMinute, ' Mins', ' เป็นเงิน ', totalCost)\n"
      ]
    },
    {
      "cell_type": "code",
      "execution_count": 43,
      "metadata": {},
      "outputs": [
        {
          "output_type": "stream",
          "name": "stdout",
          "text": "Cow  1.0 ตัว\nBird  1.0 ตัว\nTax =  370.0\n"
        }
      ],
      "source": [
        "# 15. โรงละครสัตว์มีนก กับ วัว และต้องจ่ายภาษีสัตว์ 2 ขา 150 บาทต่อตัว จ่ายภาษีสัตว์ 4 ขา 220 บาทต่อตัว เขียนโปรแกรมรับค่า input สองตัว ตัวแรกเป็นผลรวมจำนวนหัวของสัตว์ ตัวสองเป็นผลรวมจำนวนขาของสัตว์ จงหาว่าโรงละครสัตว์ต้องจ่ายภาษีเท่าใด\n",
        "\n",
        "head = int(input('Input Head :'))\n",
        "leg = int(input('Input Leg :'))\n",
        "\n",
        "cow = (leg/2) - head\n",
        "bird = head - cow\n",
        "\n",
        "print('Cow ' ,cow, 'ตัว')\n",
        "print('Bird ', bird, 'ตัว')\n",
        "\n",
        "if ((cow%1 == 0) and (bird%1 == 0) and (cow >= 0) and (bird >= 0)):\n",
        "    tax = (cow*220) + (bird*150)\n",
        "    print('Tax = ',tax)\n",
        "else:\n",
        "    print('เป็นไปไม่ได้')\n"
      ]
    },
    {
      "cell_type": "code",
      "execution_count": null,
      "metadata": {},
      "outputs": [],
      "source": []
    }
  ],
  "metadata": {
    "colab": {
      "name": "PythonCrashCoursePart2.ipynb",
      "provenance": [],
      "authorship_tag": "ABX9TyO9GXWNZ3/OAqAR9TGBXAfF",
      "include_colab_link": true
    },
    "kernelspec": {
      "name": "python38364bit1bbcb3ced3e34aa69380f629fc63a952",
      "display_name": "Python 3.8.3 64-bit"
    }
  },
  "nbformat": 4,
  "nbformat_minor": 0
}