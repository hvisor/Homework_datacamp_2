{
  "nbformat": 4,
  "nbformat_minor": 0,
  "metadata": {
    "colab": {
      "name": "PythonCrashCoursePart1.ipynb",
      "provenance": [],
      "collapsed_sections": [],
      "authorship_tag": "ABX9TyNYNpPD4F4A9nxgOPxlNEZn",
      "include_colab_link": true
    },
    "kernelspec": {
      "name": "python3",
      "display_name": "Python 3"
    }
  },
  "cells": [
    {
      "cell_type": "markdown",
      "metadata": {
        "id": "view-in-github",
        "colab_type": "text"
      },
      "source": [
        "<a href=\"https://colab.research.google.com/github/hvisor/Homework_datacamp_2/blob/master/%E0%B8%82%E0%B9%89%E0%B8%AD%E0%B8%97%E0%B8%B5%E0%B9%88%201/PythonCrashCoursePart1.ipynb\" target=\"_parent\"><img src=\"https://colab.research.google.com/assets/colab-badge.svg\" alt=\"Open In Colab\"/></a>"
      ]
    },
    {
      "cell_type": "markdown",
      "metadata": {
        "id": "niSFsa40aBFW",
        "colab_type": "text"
      },
      "source": [
        "Quiz 1"
      ]
    },
    {
      "cell_type": "markdown",
      "metadata": {
        "id": "kZXnSTAFaOZN",
        "colab_type": "text"
      },
      "source": [
        "เขียนคำสั่งคำนวณหาเศษเหลือจากการหาร 2345 ด้วย 13"
      ]
    },
    {
      "cell_type": "code",
      "metadata": {
        "id": "blFG3AzoaER7",
        "colab_type": "code",
        "colab": {}
      },
      "source": [
        "ans1 = 2345%13"
      ],
      "execution_count": 0,
      "outputs": []
    },
    {
      "cell_type": "markdown",
      "metadata": {
        "id": "f5i32J_Qac9t",
        "colab_type": "text"
      },
      "source": [
        "เขียนคำสั่งหาคำตอบจากการหาร 1567 ด้วย 17 โดยไม่เอาเศษส่วน"
      ]
    },
    {
      "cell_type": "code",
      "metadata": {
        "id": "jW0wMBrMasS0",
        "colab_type": "code",
        "colab": {}
      },
      "source": [
        "ans2 = 1567//17"
      ],
      "execution_count": 0,
      "outputs": []
    },
    {
      "cell_type": "markdown",
      "metadata": {
        "id": "F-lgSgfia4IN",
        "colab_type": "text"
      },
      "source": [
        "FirstName กับ Firstname เป็นตัวแปรเดียวกันหรือไม่? <sapn style='color:red;'>**ตอบ ไม่ใช่ตัวเดียวกัน Python เป็นภาษา Case Sensitive**</span>\n"
      ]
    },
    {
      "cell_type": "markdown",
      "metadata": {
        "id": "VpPXAosvb-B6",
        "colab_type": "text"
      },
      "source": [
        "13Friday เป็นตัวแปรที่ถูกต้องหรือไม่? **ไม่ถูกต้อง ห้ามขึ้นต้นด้วยตัวเลข**"
      ]
    },
    {
      "cell_type": "markdown",
      "metadata": {
        "id": "3bLwYd9jcfhc",
        "colab_type": "text"
      },
      "source": [
        "จง Print ผลลัพธ์ จากข้อ 1,2 โดยใช้คำสั่ง format"
      ]
    },
    {
      "cell_type": "code",
      "metadata": {
        "id": "6WvFLX3Kcpzg",
        "colab_type": "code",
        "outputId": "fe7c22e0-bb89-4991-f478-c7d24d28b7b2",
        "colab": {
          "base_uri": "https://localhost:8080/",
          "height": 34
        }
      },
      "source": [
        "print('Answer 1 = {}'.format(ans1))"
      ],
      "execution_count": 0,
      "outputs": [
        {
          "output_type": "stream",
          "text": [
            "Answer 1 = 5\n"
          ],
          "name": "stdout"
        }
      ]
    },
    {
      "cell_type": "code",
      "metadata": {
        "id": "vDJtaRh3c0nx",
        "colab_type": "code",
        "outputId": "59d01362-a8c5-416a-cdea-53e7629de7c1",
        "colab": {
          "base_uri": "https://localhost:8080/",
          "height": 34
        }
      },
      "source": [
        "print('Answer 2 = {}'.format(ans2))"
      ],
      "execution_count": 0,
      "outputs": [
        {
          "output_type": "stream",
          "text": [
            "Answer 2 = 92\n"
          ],
          "name": "stdout"
        }
      ]
    },
    {
      "cell_type": "markdown",
      "metadata": {
        "id": "YG3MsuZKORf7",
        "colab_type": "text"
      },
      "source": [
        "Quiz 2"
      ]
    },
    {
      "cell_type": "markdown",
      "metadata": {
        "id": "wt97dIBsOVdC",
        "colab_type": "text"
      },
      "source": [
        "เขียนฟังก์ชั่นไม่มีชื่อให้รับพารามิเตอร์ 1 ตัว และ ปริ้นค่านั้นหารด้วย 3"
      ]
    },
    {
      "cell_type": "code",
      "metadata": {
        "id": "i0drTxUgO2j8",
        "colab_type": "code",
        "outputId": "4437a156-d2a3-4bcd-a3ef-47f6a2e39136",
        "colab": {
          "base_uri": "https://localhost:8080/",
          "height": 34
        }
      },
      "source": [
        "divide3 = lambda x: x/3\n",
        "\n",
        "print(divide3(10))"
      ],
      "execution_count": 0,
      "outputs": [
        {
          "output_type": "stream",
          "text": [
            "3.3333333333333335\n"
          ],
          "name": "stdout"
        }
      ]
    },
    {
      "cell_type": "markdown",
      "metadata": {
        "id": "JvImf6aUQCnV",
        "colab_type": "text"
      },
      "source": [
        "เขียนฟังก์ชั่นธรรมดารับค่า 4 พารามิเตอร์ และหาค่าเฉลี่ย"
      ]
    },
    {
      "cell_type": "code",
      "metadata": {
        "id": "9Kjdy2QyQQ_z",
        "colab_type": "code",
        "outputId": "cc3437d0-108c-4128-91da-d3ef3c89ad50",
        "colab": {
          "base_uri": "https://localhost:8080/",
          "height": 34
        }
      },
      "source": [
        "def findMean(v1, v2, v3, v4):\n",
        "    return (v1+v2+v3+v4)/4\n",
        "    \n",
        "print(findMean(1,2,3,4))"
      ],
      "execution_count": 0,
      "outputs": [
        {
          "output_type": "stream",
          "text": [
            "2.5\n"
          ],
          "name": "stdout"
        }
      ]
    },
    {
      "cell_type": "markdown",
      "metadata": {
        "id": "f3dxMHWkQqnY",
        "colab_type": "text"
      },
      "source": [
        "เขียนฟังก์ชั่นไม่มีชื่อให้รับพารามิเตอร์ 3 ตัว และ หาค่าเฉลี่ย"
      ]
    },
    {
      "cell_type": "code",
      "metadata": {
        "id": "nEyHPHeBQ2YS",
        "colab_type": "code",
        "outputId": "a2af016d-cabc-4324-9c6e-a71d284d6754",
        "colab": {
          "base_uri": "https://localhost:8080/",
          "height": 34
        }
      },
      "source": [
        "Mean3 = lambda x,y,z: (x+y+z)/3\n",
        "\n",
        "print(Mean3(11,22,33))"
      ],
      "execution_count": 0,
      "outputs": [
        {
          "output_type": "stream",
          "text": [
            "22.0\n"
          ],
          "name": "stdout"
        }
      ]
    },
    {
      "cell_type": "markdown",
      "metadata": {
        "id": "fs3_1KO2R6O5",
        "colab_type": "text"
      },
      "source": [
        "Quiz 3"
      ]
    },
    {
      "cell_type": "markdown",
      "metadata": {
        "id": "2MnaOiiVR84B",
        "colab_type": "text"
      },
      "source": [
        "สร้างลิสต์ระบุชื่อ นามสกุล อายุ ตัวเอง"
      ]
    },
    {
      "cell_type": "code",
      "metadata": {
        "id": "aARJ9BlcSFE7",
        "colab_type": "code",
        "outputId": "c5044fe8-7714-4731-c673-503b5e53df05",
        "colab": {
          "base_uri": "https://localhost:8080/",
          "height": 34
        }
      },
      "source": [
        "myInfo = ['Kaweewat','Kaewasa',45]\n",
        "myInfo"
      ],
      "execution_count": 0,
      "outputs": [
        {
          "output_type": "execute_result",
          "data": {
            "text/plain": [
              "['Kaweewat', 'Kaewasa', 45]"
            ]
          },
          "metadata": {
            "tags": []
          },
          "execution_count": 25
        }
      ]
    },
    {
      "cell_type": "markdown",
      "metadata": {
        "id": "hrDerojsSWTf",
        "colab_type": "text"
      },
      "source": [
        "ลบอายุออกจากลิสต์"
      ]
    },
    {
      "cell_type": "code",
      "metadata": {
        "id": "4GCkHVPiSb5s",
        "colab_type": "code",
        "outputId": "5f6a5d83-131b-4cb3-fc08-bd25f73a40e8",
        "colab": {
          "base_uri": "https://localhost:8080/",
          "height": 34
        }
      },
      "source": [
        "myInfo = ['Kaweewat','Kaewasa',45]\n",
        "del myInfo[2]\n",
        "myInfo"
      ],
      "execution_count": 0,
      "outputs": [
        {
          "output_type": "execute_result",
          "data": {
            "text/plain": [
              "['Kaweewat', 'Kaewasa']"
            ]
          },
          "metadata": {
            "tags": []
          },
          "execution_count": 26
        }
      ]
    },
    {
      "cell_type": "markdown",
      "metadata": {
        "id": "FIk97zX1SrZd",
        "colab_type": "text"
      },
      "source": [
        "ลดอายุตัวเอง 10 ปี และแทรกไว้หน้าสุดของลิตส์"
      ]
    },
    {
      "cell_type": "code",
      "metadata": {
        "id": "ceEbi8ayTA_F",
        "colab_type": "code",
        "outputId": "42877d35-57eb-497b-85c9-16e2781ea042",
        "colab": {
          "base_uri": "https://localhost:8080/",
          "height": 34
        }
      },
      "source": [
        "myInfo = ['Kaweewat','Kaewasa',45]\n",
        "del myInfo[2]\n",
        "myInfo.insert(0,35)\n",
        "myInfo"
      ],
      "execution_count": 0,
      "outputs": [
        {
          "output_type": "execute_result",
          "data": {
            "text/plain": [
              "[35, 'Kaweewat', 'Kaewasa']"
            ]
          },
          "metadata": {
            "tags": []
          },
          "execution_count": 28
        }
      ]
    },
    {
      "cell_type": "markdown",
      "metadata": {
        "id": "8_ZmTgprT-OG",
        "colab_type": "text"
      },
      "source": [
        "เพิ่มส่วนสูง น้ำหนักลงในลิตส์ โดยไปต่อท้าย"
      ]
    },
    {
      "cell_type": "code",
      "metadata": {
        "id": "wYgodj9vUIis",
        "colab_type": "code",
        "outputId": "c8132f6a-1b68-4aa2-8e02-7be11759d338",
        "colab": {
          "base_uri": "https://localhost:8080/",
          "height": 34
        }
      },
      "source": [
        "myInfo = ['Kaweewat','Kaewasa',45]\n",
        "del myInfo[2]\n",
        "myInfo.insert(0,35)\n",
        "myInfo.append(167)\n",
        "myInfo.append(70)\n",
        "myInfo"
      ],
      "execution_count": 0,
      "outputs": [
        {
          "output_type": "execute_result",
          "data": {
            "text/plain": [
              "[35, 'Kaweewat', 'Kaewasa', 167, 70]"
            ]
          },
          "metadata": {
            "tags": []
          },
          "execution_count": 29
        }
      ]
    },
    {
      "cell_type": "markdown",
      "metadata": {
        "id": "9aheyyehUW7y",
        "colab_type": "text"
      },
      "source": [
        "Print สมาชิกในลิสต์ตัวที่ 3 ถึงตัวสุดท้าย"
      ]
    },
    {
      "cell_type": "code",
      "metadata": {
        "id": "Z7U4u00sUiTa",
        "colab_type": "code",
        "outputId": "8572f00c-0619-4b58-a980-69a1bbb227c4",
        "colab": {
          "base_uri": "https://localhost:8080/",
          "height": 85
        }
      },
      "source": [
        "print(myInfo[2])\n",
        "print(myInfo[3])\n",
        "print(myInfo[4])\n",
        "\n",
        "print(myInfo[2], myInfo[3], myInfo[4])"
      ],
      "execution_count": 0,
      "outputs": [
        {
          "output_type": "stream",
          "text": [
            "Kaewasa\n",
            "167\n",
            "70\n",
            "Kaewasa 167 70\n"
          ],
          "name": "stdout"
        }
      ]
    },
    {
      "cell_type": "markdown",
      "metadata": {
        "id": "yF6SM5poVYma",
        "colab_type": "text"
      },
      "source": [
        "Quiz 4"
      ]
    },
    {
      "cell_type": "markdown",
      "metadata": {
        "id": "fx--i9jKVaWa",
        "colab_type": "text"
      },
      "source": [
        "a = [[[1,3],[3,4]],[5,[5,6],[7,8]]] แล้ว a[1][1][1] คือค่าใด"
      ]
    },
    {
      "cell_type": "code",
      "metadata": {
        "id": "2AWQGc0-VuU9",
        "colab_type": "code",
        "outputId": "9853b4ea-8629-49df-8564-d8b1e8a3a742",
        "colab": {
          "base_uri": "https://localhost:8080/",
          "height": 34
        }
      },
      "source": [
        "a = [[[1,3],[3,4]],[5,[5,6],[7,8]]] \n",
        "print(a[1][1][1])"
      ],
      "execution_count": 0,
      "outputs": [
        {
          "output_type": "stream",
          "text": [
            "6\n"
          ],
          "name": "stdout"
        }
      ]
    },
    {
      "cell_type": "markdown",
      "metadata": {
        "id": "bapRIZwBXdfw",
        "colab_type": "text"
      },
      "source": [
        "เขียนชื่อนามสกุลอายุอยู่ในลิสต์เดียวของคน 4 คนแล้วไว้ในลิสต์ (Nested List) และแสดงผล"
      ]
    },
    {
      "cell_type": "code",
      "metadata": {
        "id": "gxm74N_AX7A2",
        "colab_type": "code",
        "outputId": "b3939cc0-c91b-41c0-de8f-e6b31c068eaa",
        "colab": {
          "base_uri": "https://localhost:8080/",
          "height": 34
        }
      },
      "source": [
        "person1 = ['Name A','Last A',10]\n",
        "person2 = ['Name B','Last B',20]\n",
        "person3 = ['Name C','Last C',30]\n",
        "person4 = ['Name D','Last D',40]\n",
        "person_all = [person1, person2, person3, person4]\n",
        "print(person_all)"
      ],
      "execution_count": 0,
      "outputs": [
        {
          "output_type": "stream",
          "text": [
            "[['Name A', 'Last A', 10], ['Name B', 'Last B', 20], ['Name C', 'Last C', 30], ['Name D', 'Last D', 40]]\n"
          ],
          "name": "stdout"
        }
      ]
    },
    {
      "cell_type": "markdown",
      "metadata": {
        "id": "XXyyLRPXYy_-",
        "colab_type": "text"
      },
      "source": [
        "ลบคนสุดท้ายของลิสต์นั้นออกและแสดงผล"
      ]
    },
    {
      "cell_type": "code",
      "metadata": {
        "id": "B0uIoXZTY9oc",
        "colab_type": "code",
        "outputId": "9fbb5a63-5293-422d-f714-32a171c9a751",
        "colab": {
          "base_uri": "https://localhost:8080/",
          "height": 34
        }
      },
      "source": [
        "del person_all[len(person_all)-1]\n",
        "print(person_all)"
      ],
      "execution_count": 0,
      "outputs": [
        {
          "output_type": "stream",
          "text": [
            "[['Name A', 'Last A', 10], ['Name B', 'Last B', 20], ['Name C', 'Last C', 30]]\n"
          ],
          "name": "stdout"
        }
      ]
    },
    {
      "cell_type": "markdown",
      "metadata": {
        "id": "uYOsnpplZPov",
        "colab_type": "text"
      },
      "source": [
        "เพิ่มคนที่ 5 เข้ามาเป็นคนแรกของ Nested List และแสดงผล"
      ]
    },
    {
      "cell_type": "code",
      "metadata": {
        "id": "CP3QCRvzZhHc",
        "colab_type": "code",
        "outputId": "f32ff4b9-551d-47df-c464-723599553415",
        "colab": {
          "base_uri": "https://localhost:8080/",
          "height": 34
        }
      },
      "source": [
        "person5 = ['Name E','Last E',50]\n",
        "person_all.insert(0,person5)\n",
        "print(person_all)"
      ],
      "execution_count": 0,
      "outputs": [
        {
          "output_type": "stream",
          "text": [
            "[['Name E', 'Last E', 50], ['Name A', 'Last A', 10], ['Name B', 'Last B', 20], ['Name C', 'Last C', 30]]\n"
          ],
          "name": "stdout"
        }
      ]
    },
    {
      "cell_type": "markdown",
      "metadata": {
        "id": "rgJ1qrB7Z453",
        "colab_type": "text"
      },
      "source": [
        "แก้ไขน้ำหนักคนที่สอง +10 และแสดงผล"
      ]
    },
    {
      "cell_type": "code",
      "metadata": {
        "id": "2cgk_DTAaDJK",
        "colab_type": "code",
        "outputId": "056ef111-fdd1-471b-bafd-7b8a5e584fd6",
        "colab": {
          "base_uri": "https://localhost:8080/",
          "height": 34
        }
      },
      "source": [
        "person_all[1][2] = person_all[1][2] + 10\n",
        "print(person_all)"
      ],
      "execution_count": 0,
      "outputs": [
        {
          "output_type": "stream",
          "text": [
            "[['Name E', 'Last E', 50], ['Name A', 'Last A', 20], ['Name B', 'Last B', 20], ['Name C', 'Last C', 30]]\n"
          ],
          "name": "stdout"
        }
      ]
    },
    {
      "cell_type": "markdown",
      "metadata": {
        "id": "jJV8YxeEcJtm",
        "colab_type": "text"
      },
      "source": [
        "Quiz 5"
      ]
    },
    {
      "cell_type": "markdown",
      "metadata": {
        "id": "DIB4fpFvcL08",
        "colab_type": "text"
      },
      "source": [
        "กำหนดให้ lst = [1,2,3,4,5,6,7,8,9,10] จงเขียน Map เพื่อหาเลขยกกำลังสามทั้งหมดของ lst ในรูปแบบ Lambda Function และ ฟังก์ชั่นธรรมดา"
      ]
    },
    {
      "cell_type": "code",
      "metadata": {
        "id": "0uluUCxecOiU",
        "colab_type": "code",
        "outputId": "2801a22f-134f-435d-e19c-ee6ab41a565e",
        "colab": {
          "base_uri": "https://localhost:8080/",
          "height": 34
        }
      },
      "source": [
        "lst = [1,2,3,4,5,6,7,8,9,10]\n",
        "result = map(lambda x: x**3, lst)\n",
        "print(list(result))"
      ],
      "execution_count": 0,
      "outputs": [
        {
          "output_type": "stream",
          "text": [
            "[1, 8, 27, 64, 125, 216, 343, 512, 729, 1000]\n"
          ],
          "name": "stdout"
        }
      ]
    },
    {
      "cell_type": "code",
      "metadata": {
        "id": "YMQZ2xtVd990",
        "colab_type": "code",
        "outputId": "041f97a8-8eab-490b-f7be-7b3a10923e28",
        "colab": {
          "base_uri": "https://localhost:8080/",
          "height": 34
        }
      },
      "source": [
        "lst = [1,2,3,4,5,6,7,8,9,10]\n",
        "def func(x):\n",
        "    return x**3\n",
        "print(list(map(func,lst)))"
      ],
      "execution_count": 0,
      "outputs": [
        {
          "output_type": "stream",
          "text": [
            "[1, 8, 27, 64, 125, 216, 343, 512, 729, 1000]\n"
          ],
          "name": "stdout"
        }
      ]
    },
    {
      "cell_type": "markdown",
      "metadata": {
        "id": "jSXJGHJLeieo",
        "colab_type": "text"
      },
      "source": [
        "กำหนดให้ lst = [1,2,3,4,5,6,7,8,9,10] จงเขียน Filter เพื่อหาเลขใดในลิสต์เมื่อยกกำลังสองแล้วหารสองไม่ลงตัว ในรูปแบบ Lambda Function และ ฟังก์ชั่นธรรมดา"
      ]
    },
    {
      "cell_type": "code",
      "metadata": {
        "id": "mSCQ3spGej4z",
        "colab_type": "code",
        "outputId": "e208444c-934b-4581-86e7-44c5a2153fc3",
        "colab": {
          "base_uri": "https://localhost:8080/",
          "height": 34
        }
      },
      "source": [
        "lst = [1,2,3,4,5,6,7,8,9,10]\n",
        "result = filter(lambda x:((x**2)%2 != 0),lst)\n",
        "print(list(result))"
      ],
      "execution_count": 0,
      "outputs": [
        {
          "output_type": "stream",
          "text": [
            "[1, 3, 5, 7, 9]\n"
          ],
          "name": "stdout"
        }
      ]
    },
    {
      "cell_type": "code",
      "metadata": {
        "id": "hC19GzvgffqR",
        "colab_type": "code",
        "outputId": "799e74ba-8c07-4952-9f4c-f494102ff5f0",
        "colab": {
          "base_uri": "https://localhost:8080/",
          "height": 34
        }
      },
      "source": [
        "lst = [1,2,3,4,5,6,7,8,9,10]\n",
        "def func(x):\n",
        "    # return ((x**2)%2 != 0)\n",
        "    if((x**2)%2 != 0):\n",
        "        return x\n",
        "print(list(map(func,lst)))"
      ],
      "execution_count": 0,
      "outputs": [
        {
          "output_type": "stream",
          "text": [
            "[1, None, 3, None, 5, None, 7, None, 9, None]\n"
          ],
          "name": "stdout"
        }
      ]
    },
    {
      "cell_type": "markdown",
      "metadata": {
        "id": "Mj76HjF4VQSa",
        "colab_type": "text"
      },
      "source": [
        "test"
      ]
    }
  ]
}