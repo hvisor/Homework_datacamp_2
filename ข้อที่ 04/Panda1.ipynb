{
  "nbformat": 4,
  "nbformat_minor": 0,
  "metadata": {
    "colab": {
      "name": "Panda1.ipynb",
      "provenance": [],
      "collapsed_sections": []
    },
    "kernelspec": {
      "name": "python3",
      "display_name": "Python 3"
    }
  },
  "cells": [
    {
      "cell_type": "markdown",
      "metadata": {
        "id": "gxyHn7PxsRj7",
        "colab_type": "text"
      },
      "source": [
        "1.โหลด csv เข้าไปใน Python Pandas"
      ]
    },
    {
      "cell_type": "code",
      "metadata": {
        "id": "0FaKOiGHpVtS",
        "colab_type": "code",
        "colab": {
          "base_uri": "https://localhost:8080/",
          "height": 255
        },
        "outputId": "7230811b-5868-4ecd-ebd3-4da9577cfa9d"
      },
      "source": [
        "import pandas as pd\n",
        "\n",
        "df = pd.read_csv('https://raw.githubusercontent.com/hvisor/Homework_datacamp_2/master/train.csv')\n",
        "\n",
        "print(df)"
      ],
      "execution_count": 2,
      "outputs": [
        {
          "output_type": "stream",
          "text": [
            "     PassengerId  Survived  Pclass  ...     Fare Cabin  Embarked\n",
            "0              1         0       3  ...   7.2500   NaN         S\n",
            "1              2         1       1  ...  71.2833   C85         C\n",
            "2              3         1       3  ...   7.9250   NaN         S\n",
            "3              4         1       1  ...  53.1000  C123         S\n",
            "4              5         0       3  ...   8.0500   NaN         S\n",
            "..           ...       ...     ...  ...      ...   ...       ...\n",
            "886          887         0       2  ...  13.0000   NaN         S\n",
            "887          888         1       1  ...  30.0000   B42         S\n",
            "888          889         0       3  ...  23.4500   NaN         S\n",
            "889          890         1       1  ...  30.0000  C148         C\n",
            "890          891         0       3  ...   7.7500   NaN         Q\n",
            "\n",
            "[891 rows x 12 columns]\n"
          ],
          "name": "stdout"
        }
      ]
    },
    {
      "cell_type": "markdown",
      "metadata": {
        "id": "1IyYpESasVe-",
        "colab_type": "text"
      },
      "source": [
        "2.เขียนโค้ดแสดง หัว10แถว ท้าย10แถว และสุ่ม10แถว"
      ]
    },
    {
      "cell_type": "code",
      "metadata": {
        "id": "AiVYItw-YJZJ",
        "colab_type": "code",
        "colab": {
          "base_uri": "https://localhost:8080/",
          "height": 680
        },
        "outputId": "58063cf3-135f-4313-af06-3dead4244e83"
      },
      "source": [
        "print(df.head(10))\n",
        "print(df.tail(10))\n",
        "print(df.sample(10))"
      ],
      "execution_count": 4,
      "outputs": [
        {
          "output_type": "stream",
          "text": [
            "   PassengerId  Survived  Pclass  ...     Fare Cabin  Embarked\n",
            "0            1         0       3  ...   7.2500   NaN         S\n",
            "1            2         1       1  ...  71.2833   C85         C\n",
            "2            3         1       3  ...   7.9250   NaN         S\n",
            "3            4         1       1  ...  53.1000  C123         S\n",
            "4            5         0       3  ...   8.0500   NaN         S\n",
            "5            6         0       3  ...   8.4583   NaN         Q\n",
            "6            7         0       1  ...  51.8625   E46         S\n",
            "7            8         0       3  ...  21.0750   NaN         S\n",
            "8            9         1       3  ...  11.1333   NaN         S\n",
            "9           10         1       2  ...  30.0708   NaN         C\n",
            "\n",
            "[10 rows x 12 columns]\n",
            "     PassengerId  Survived  Pclass  ...     Fare Cabin  Embarked\n",
            "881          882         0       3  ...   7.8958   NaN         S\n",
            "882          883         0       3  ...  10.5167   NaN         S\n",
            "883          884         0       2  ...  10.5000   NaN         S\n",
            "884          885         0       3  ...   7.0500   NaN         S\n",
            "885          886         0       3  ...  29.1250   NaN         Q\n",
            "886          887         0       2  ...  13.0000   NaN         S\n",
            "887          888         1       1  ...  30.0000   B42         S\n",
            "888          889         0       3  ...  23.4500   NaN         S\n",
            "889          890         1       1  ...  30.0000  C148         C\n",
            "890          891         0       3  ...   7.7500   NaN         Q\n",
            "\n",
            "[10 rows x 12 columns]\n",
            "     PassengerId  Survived  Pclass  ...      Fare Cabin  Embarked\n",
            "861          862         0       2  ...   11.5000   NaN         S\n",
            "395          396         0       3  ...    7.7958   NaN         S\n",
            "69            70         0       3  ...    8.6625   NaN         S\n",
            "213          214         0       2  ...   13.0000   NaN         S\n",
            "286          287         1       3  ...    9.5000   NaN         S\n",
            "53            54         1       2  ...   26.0000   NaN         S\n",
            "380          381         1       1  ...  227.5250   NaN         C\n",
            "35            36         0       1  ...   52.0000   NaN         S\n",
            "314          315         0       2  ...   26.2500   NaN         S\n",
            "30            31         0       1  ...   27.7208   NaN         C\n",
            "\n",
            "[10 rows x 12 columns]\n"
          ],
          "name": "stdout"
        }
      ]
    },
    {
      "cell_type": "markdown",
      "metadata": {
        "id": "jany6LbDsbnu",
        "colab_type": "text"
      },
      "source": [
        "3.ลบ row ที่มี Embarked ว่าง"
      ]
    },
    {
      "cell_type": "code",
      "metadata": {
        "id": "X7lV5Wd8YjBb",
        "colab_type": "code",
        "colab": {
          "base_uri": "https://localhost:8080/",
          "height": 34
        },
        "outputId": "5032bb49-81ea-4335-f70f-1e03469f162f"
      },
      "source": [
        "# print(df)\n",
        "#891 Rows\n",
        "print(df[df['Embarked'] > ''].shape)\n"
      ],
      "execution_count": 14,
      "outputs": [
        {
          "output_type": "stream",
          "text": [
            "(889, 12)\n"
          ],
          "name": "stdout"
        }
      ]
    },
    {
      "cell_type": "markdown",
      "metadata": {
        "id": "hRgPSnMXsg0Y",
        "colab_type": "text"
      },
      "source": [
        "4.เติม age ด้วยค่าเฉลี่ย"
      ]
    },
    {
      "cell_type": "code",
      "metadata": {
        "id": "ro0M7dS2b8Eb",
        "colab_type": "code",
        "colab": {
          "base_uri": "https://localhost:8080/",
          "height": 238
        },
        "outputId": "0c72a7e0-3b1b-4bb3-fb70-2c2e5e25b567"
      },
      "source": [
        "df = pd.read_csv('https://raw.githubusercontent.com/hvisor/Homework_datacamp_2/master/train.csv',na_values={'Age':['']})\n",
        "# print(df['Age'])\n",
        "avg = df['Age'].mean()\n",
        "print(avg)\n",
        "df['Age'].fillna(value=avg)"
      ],
      "execution_count": 21,
      "outputs": [
        {
          "output_type": "stream",
          "text": [
            "29.69911764705882\n"
          ],
          "name": "stdout"
        },
        {
          "output_type": "execute_result",
          "data": {
            "text/plain": [
              "0      22.000000\n",
              "1      38.000000\n",
              "2      26.000000\n",
              "3      35.000000\n",
              "4      35.000000\n",
              "         ...    \n",
              "886    27.000000\n",
              "887    19.000000\n",
              "888    29.699118\n",
              "889    26.000000\n",
              "890    32.000000\n",
              "Name: Age, Length: 891, dtype: float64"
            ]
          },
          "metadata": {
            "tags": []
          },
          "execution_count": 21
        }
      ]
    },
    {
      "cell_type": "markdown",
      "metadata": {
        "id": "xPuAKQVGsmEA",
        "colab_type": "text"
      },
      "source": [
        "5.เติม age ด้วย 0"
      ]
    },
    {
      "cell_type": "code",
      "metadata": {
        "id": "58nccPzSd0Ex",
        "colab_type": "code",
        "colab": {
          "base_uri": "https://localhost:8080/",
          "height": 221
        },
        "outputId": "4ee5d02a-91e5-45cd-af47-8af213be2575"
      },
      "source": [
        "df = pd.read_csv('https://raw.githubusercontent.com/hvisor/Homework_datacamp_2/master/train.csv',na_values={'Age':['']})\n",
        "df['Age'].fillna(value=0)"
      ],
      "execution_count": 22,
      "outputs": [
        {
          "output_type": "execute_result",
          "data": {
            "text/plain": [
              "0      22.0\n",
              "1      38.0\n",
              "2      26.0\n",
              "3      35.0\n",
              "4      35.0\n",
              "       ... \n",
              "886    27.0\n",
              "887    19.0\n",
              "888     0.0\n",
              "889    26.0\n",
              "890    32.0\n",
              "Name: Age, Length: 891, dtype: float64"
            ]
          },
          "metadata": {
            "tags": []
          },
          "execution_count": 22
        }
      ]
    },
    {
      "cell_type": "markdown",
      "metadata": {
        "id": "zo8H7IhAsrgw",
        "colab_type": "text"
      },
      "source": [
        "6.ลบ row ที่ age เป็นค่าว่าง"
      ]
    },
    {
      "cell_type": "code",
      "metadata": {
        "id": "uLsE5A5teAjB",
        "colab_type": "code",
        "colab": {
          "base_uri": "https://localhost:8080/",
          "height": 419
        },
        "outputId": "0f07a7fa-a791-424a-ebde-62448c705226"
      },
      "source": [
        "df = pd.read_csv('https://raw.githubusercontent.com/hvisor/Homework_datacamp_2/master/train.csv',na_values={'Age':['']})\n",
        "\n",
        "df[df['Age'].notna()]"
      ],
      "execution_count": 29,
      "outputs": [
        {
          "output_type": "execute_result",
          "data": {
            "text/html": [
              "<div>\n",
              "<style scoped>\n",
              "    .dataframe tbody tr th:only-of-type {\n",
              "        vertical-align: middle;\n",
              "    }\n",
              "\n",
              "    .dataframe tbody tr th {\n",
              "        vertical-align: top;\n",
              "    }\n",
              "\n",
              "    .dataframe thead th {\n",
              "        text-align: right;\n",
              "    }\n",
              "</style>\n",
              "<table border=\"1\" class=\"dataframe\">\n",
              "  <thead>\n",
              "    <tr style=\"text-align: right;\">\n",
              "      <th></th>\n",
              "      <th>PassengerId</th>\n",
              "      <th>Survived</th>\n",
              "      <th>Pclass</th>\n",
              "      <th>Name</th>\n",
              "      <th>Sex</th>\n",
              "      <th>Age</th>\n",
              "      <th>SibSp</th>\n",
              "      <th>Parch</th>\n",
              "      <th>Ticket</th>\n",
              "      <th>Fare</th>\n",
              "      <th>Cabin</th>\n",
              "      <th>Embarked</th>\n",
              "    </tr>\n",
              "  </thead>\n",
              "  <tbody>\n",
              "    <tr>\n",
              "      <th>0</th>\n",
              "      <td>1</td>\n",
              "      <td>0</td>\n",
              "      <td>3</td>\n",
              "      <td>Braund, Mr. Owen Harris</td>\n",
              "      <td>male</td>\n",
              "      <td>22.0</td>\n",
              "      <td>1</td>\n",
              "      <td>0</td>\n",
              "      <td>A/5 21171</td>\n",
              "      <td>7.2500</td>\n",
              "      <td>NaN</td>\n",
              "      <td>S</td>\n",
              "    </tr>\n",
              "    <tr>\n",
              "      <th>1</th>\n",
              "      <td>2</td>\n",
              "      <td>1</td>\n",
              "      <td>1</td>\n",
              "      <td>Cumings, Mrs. John Bradley (Florence Briggs Th...</td>\n",
              "      <td>female</td>\n",
              "      <td>38.0</td>\n",
              "      <td>1</td>\n",
              "      <td>0</td>\n",
              "      <td>PC 17599</td>\n",
              "      <td>71.2833</td>\n",
              "      <td>C85</td>\n",
              "      <td>C</td>\n",
              "    </tr>\n",
              "    <tr>\n",
              "      <th>2</th>\n",
              "      <td>3</td>\n",
              "      <td>1</td>\n",
              "      <td>3</td>\n",
              "      <td>Heikkinen, Miss. Laina</td>\n",
              "      <td>female</td>\n",
              "      <td>26.0</td>\n",
              "      <td>0</td>\n",
              "      <td>0</td>\n",
              "      <td>STON/O2. 3101282</td>\n",
              "      <td>7.9250</td>\n",
              "      <td>NaN</td>\n",
              "      <td>S</td>\n",
              "    </tr>\n",
              "    <tr>\n",
              "      <th>3</th>\n",
              "      <td>4</td>\n",
              "      <td>1</td>\n",
              "      <td>1</td>\n",
              "      <td>Futrelle, Mrs. Jacques Heath (Lily May Peel)</td>\n",
              "      <td>female</td>\n",
              "      <td>35.0</td>\n",
              "      <td>1</td>\n",
              "      <td>0</td>\n",
              "      <td>113803</td>\n",
              "      <td>53.1000</td>\n",
              "      <td>C123</td>\n",
              "      <td>S</td>\n",
              "    </tr>\n",
              "    <tr>\n",
              "      <th>4</th>\n",
              "      <td>5</td>\n",
              "      <td>0</td>\n",
              "      <td>3</td>\n",
              "      <td>Allen, Mr. William Henry</td>\n",
              "      <td>male</td>\n",
              "      <td>35.0</td>\n",
              "      <td>0</td>\n",
              "      <td>0</td>\n",
              "      <td>373450</td>\n",
              "      <td>8.0500</td>\n",
              "      <td>NaN</td>\n",
              "      <td>S</td>\n",
              "    </tr>\n",
              "    <tr>\n",
              "      <th>...</th>\n",
              "      <td>...</td>\n",
              "      <td>...</td>\n",
              "      <td>...</td>\n",
              "      <td>...</td>\n",
              "      <td>...</td>\n",
              "      <td>...</td>\n",
              "      <td>...</td>\n",
              "      <td>...</td>\n",
              "      <td>...</td>\n",
              "      <td>...</td>\n",
              "      <td>...</td>\n",
              "      <td>...</td>\n",
              "    </tr>\n",
              "    <tr>\n",
              "      <th>885</th>\n",
              "      <td>886</td>\n",
              "      <td>0</td>\n",
              "      <td>3</td>\n",
              "      <td>Rice, Mrs. William (Margaret Norton)</td>\n",
              "      <td>female</td>\n",
              "      <td>39.0</td>\n",
              "      <td>0</td>\n",
              "      <td>5</td>\n",
              "      <td>382652</td>\n",
              "      <td>29.1250</td>\n",
              "      <td>NaN</td>\n",
              "      <td>Q</td>\n",
              "    </tr>\n",
              "    <tr>\n",
              "      <th>886</th>\n",
              "      <td>887</td>\n",
              "      <td>0</td>\n",
              "      <td>2</td>\n",
              "      <td>Montvila, Rev. Juozas</td>\n",
              "      <td>male</td>\n",
              "      <td>27.0</td>\n",
              "      <td>0</td>\n",
              "      <td>0</td>\n",
              "      <td>211536</td>\n",
              "      <td>13.0000</td>\n",
              "      <td>NaN</td>\n",
              "      <td>S</td>\n",
              "    </tr>\n",
              "    <tr>\n",
              "      <th>887</th>\n",
              "      <td>888</td>\n",
              "      <td>1</td>\n",
              "      <td>1</td>\n",
              "      <td>Graham, Miss. Margaret Edith</td>\n",
              "      <td>female</td>\n",
              "      <td>19.0</td>\n",
              "      <td>0</td>\n",
              "      <td>0</td>\n",
              "      <td>112053</td>\n",
              "      <td>30.0000</td>\n",
              "      <td>B42</td>\n",
              "      <td>S</td>\n",
              "    </tr>\n",
              "    <tr>\n",
              "      <th>889</th>\n",
              "      <td>890</td>\n",
              "      <td>1</td>\n",
              "      <td>1</td>\n",
              "      <td>Behr, Mr. Karl Howell</td>\n",
              "      <td>male</td>\n",
              "      <td>26.0</td>\n",
              "      <td>0</td>\n",
              "      <td>0</td>\n",
              "      <td>111369</td>\n",
              "      <td>30.0000</td>\n",
              "      <td>C148</td>\n",
              "      <td>C</td>\n",
              "    </tr>\n",
              "    <tr>\n",
              "      <th>890</th>\n",
              "      <td>891</td>\n",
              "      <td>0</td>\n",
              "      <td>3</td>\n",
              "      <td>Dooley, Mr. Patrick</td>\n",
              "      <td>male</td>\n",
              "      <td>32.0</td>\n",
              "      <td>0</td>\n",
              "      <td>0</td>\n",
              "      <td>370376</td>\n",
              "      <td>7.7500</td>\n",
              "      <td>NaN</td>\n",
              "      <td>Q</td>\n",
              "    </tr>\n",
              "  </tbody>\n",
              "</table>\n",
              "<p>714 rows × 12 columns</p>\n",
              "</div>"
            ],
            "text/plain": [
              "     PassengerId  Survived  Pclass  ...     Fare Cabin  Embarked\n",
              "0              1         0       3  ...   7.2500   NaN         S\n",
              "1              2         1       1  ...  71.2833   C85         C\n",
              "2              3         1       3  ...   7.9250   NaN         S\n",
              "3              4         1       1  ...  53.1000  C123         S\n",
              "4              5         0       3  ...   8.0500   NaN         S\n",
              "..           ...       ...     ...  ...      ...   ...       ...\n",
              "885          886         0       3  ...  29.1250   NaN         Q\n",
              "886          887         0       2  ...  13.0000   NaN         S\n",
              "887          888         1       1  ...  30.0000   B42         S\n",
              "889          890         1       1  ...  30.0000  C148         C\n",
              "890          891         0       3  ...   7.7500   NaN         Q\n",
              "\n",
              "[714 rows x 12 columns]"
            ]
          },
          "metadata": {
            "tags": []
          },
          "execution_count": 29
        }
      ]
    },
    {
      "cell_type": "markdown",
      "metadata": {
        "id": "PayhExrtsxoM",
        "colab_type": "text"
      },
      "source": [
        "7.หาจำนวนผู้หญิงต่อผู้ชายที่อยู่บนเรือ"
      ]
    },
    {
      "cell_type": "code",
      "metadata": {
        "id": "Cl6x6DVXfxCi",
        "colab_type": "code",
        "colab": {
          "base_uri": "https://localhost:8080/",
          "height": 68
        },
        "outputId": "23b7a875-43f3-4631-83af-8dbb0b025c51"
      },
      "source": [
        "df = pd.read_csv('https://raw.githubusercontent.com/hvisor/Homework_datacamp_2/master/train.csv',na_values={'Age':['']})\n",
        "\n",
        "df['Sex'].value_counts()"
      ],
      "execution_count": 30,
      "outputs": [
        {
          "output_type": "execute_result",
          "data": {
            "text/plain": [
              "male      577\n",
              "female    314\n",
              "Name: Sex, dtype: int64"
            ]
          },
          "metadata": {
            "tags": []
          },
          "execution_count": 30
        }
      ]
    },
    {
      "cell_type": "markdown",
      "metadata": {
        "id": "tfpDXPeos0ef",
        "colab_type": "text"
      },
      "source": [
        "8.หาจำนวนผู้หญิงและผู้ชายที่รอดชีวิต"
      ]
    },
    {
      "cell_type": "code",
      "metadata": {
        "id": "F0SH5MG_gfIb",
        "colab_type": "code",
        "colab": {
          "base_uri": "https://localhost:8080/",
          "height": 68
        },
        "outputId": "57f6bc7e-f8da-4493-e6ef-e622f28f032a"
      },
      "source": [
        "df = pd.read_csv('https://raw.githubusercontent.com/hvisor/Homework_datacamp_2/master/train.csv',na_values={'Age':['']})\n",
        "\n",
        "df2 = df[df['Survived']==1]\n",
        "df2['Sex'].value_counts()\n",
        "\n"
      ],
      "execution_count": 46,
      "outputs": [
        {
          "output_type": "execute_result",
          "data": {
            "text/plain": [
              "female    233\n",
              "male      109\n",
              "Name: Sex, dtype: int64"
            ]
          },
          "metadata": {
            "tags": []
          },
          "execution_count": 46
        }
      ]
    },
    {
      "cell_type": "markdown",
      "metadata": {
        "id": "yV5bhYv0s2gb",
        "colab_type": "text"
      },
      "source": [
        "9.หา % การรอดชีวิตของผู้หญิงและผู้ชาย"
      ]
    },
    {
      "cell_type": "code",
      "metadata": {
        "id": "TgI960BFkJTK",
        "colab_type": "code",
        "colab": {
          "base_uri": "https://localhost:8080/",
          "height": 85
        },
        "outputId": "a9519ee4-c662-4d0b-df7b-895d83cd7f50"
      },
      "source": [
        "df = pd.read_csv('https://raw.githubusercontent.com/hvisor/Homework_datacamp_2/master/train.csv',na_values={'Age':['']})\n",
        "\n",
        "df1 = df[df['Survived']==1]\n",
        "totalSurvived = df1['Sex'].count()\n",
        "df1 = df1['Sex'].value_counts().rename_axis('Sex').to_frame('counts')\n",
        "df1['%'] = 100 * df1['counts'] / totalSurvived\n",
        "print(df1)\n"
      ],
      "execution_count": 167,
      "outputs": [
        {
          "output_type": "stream",
          "text": [
            "        counts          %\n",
            "Sex                      \n",
            "female     233  68.128655\n",
            "male       109  31.871345\n"
          ],
          "name": "stdout"
        }
      ]
    },
    {
      "cell_type": "markdown",
      "metadata": {
        "id": "BjyQ-wsgs4yv",
        "colab_type": "text"
      },
      "source": [
        "10.แปลงคอลัมน์ female = 0 และ male = 1 "
      ]
    },
    {
      "cell_type": "markdown",
      "metadata": {
        "id": "TisgzEvds7wn",
        "colab_type": "text"
      },
      "source": [
        "11.หาคนที่อายุมากที่สุดพร้อมบอกชื่อ อายุ และลงท่าที่ไหน"
      ]
    },
    {
      "cell_type": "code",
      "metadata": {
        "id": "yHlN09srlxNe",
        "colab_type": "code",
        "colab": {
          "base_uri": "https://localhost:8080/",
          "height": 80
        },
        "outputId": "eafc75cf-3747-482f-a907-139cd0ea34d8"
      },
      "source": [
        "df = pd.read_csv('https://raw.githubusercontent.com/hvisor/Homework_datacamp_2/master/train.csv',na_values={'Age':['']})\n",
        "maxAge = df['Age'].max()\n",
        "df2 = df[df['Age']==maxAge]\n",
        "df2[['Name','Age','Embarked']]\n"
      ],
      "execution_count": 71,
      "outputs": [
        {
          "output_type": "execute_result",
          "data": {
            "text/html": [
              "<div>\n",
              "<style scoped>\n",
              "    .dataframe tbody tr th:only-of-type {\n",
              "        vertical-align: middle;\n",
              "    }\n",
              "\n",
              "    .dataframe tbody tr th {\n",
              "        vertical-align: top;\n",
              "    }\n",
              "\n",
              "    .dataframe thead th {\n",
              "        text-align: right;\n",
              "    }\n",
              "</style>\n",
              "<table border=\"1\" class=\"dataframe\">\n",
              "  <thead>\n",
              "    <tr style=\"text-align: right;\">\n",
              "      <th></th>\n",
              "      <th>Name</th>\n",
              "      <th>Age</th>\n",
              "      <th>Embarked</th>\n",
              "    </tr>\n",
              "  </thead>\n",
              "  <tbody>\n",
              "    <tr>\n",
              "      <th>630</th>\n",
              "      <td>Barkworth, Mr. Algernon Henry Wilson</td>\n",
              "      <td>80.0</td>\n",
              "      <td>S</td>\n",
              "    </tr>\n",
              "  </tbody>\n",
              "</table>\n",
              "</div>"
            ],
            "text/plain": [
              "                                     Name   Age Embarked\n",
              "630  Barkworth, Mr. Algernon Henry Wilson  80.0        S"
            ]
          },
          "metadata": {
            "tags": []
          },
          "execution_count": 71
        }
      ]
    },
    {
      "cell_type": "markdown",
      "metadata": {
        "id": "J5QDcZJ9tCyN",
        "colab_type": "text"
      },
      "source": [
        "12.หาคนที่อายุน้อยที่สุดพร้อมบอกชื่อ อายุ และลงท่าที่ไหน"
      ]
    },
    {
      "cell_type": "code",
      "metadata": {
        "id": "2wOMqW4QpCQH",
        "colab_type": "code",
        "colab": {
          "base_uri": "https://localhost:8080/",
          "height": 80
        },
        "outputId": "7c916600-4221-4b1b-dcc9-db1179e73634"
      },
      "source": [
        "df = pd.read_csv('https://raw.githubusercontent.com/hvisor/Homework_datacamp_2/master/train.csv',na_values={'Age':['']})\n",
        "minAge = df['Age'].min()\n",
        "df2 = df[df['Age']==minAge]\n",
        "df2[['Name','Age','Embarked']]"
      ],
      "execution_count": 73,
      "outputs": [
        {
          "output_type": "execute_result",
          "data": {
            "text/html": [
              "<div>\n",
              "<style scoped>\n",
              "    .dataframe tbody tr th:only-of-type {\n",
              "        vertical-align: middle;\n",
              "    }\n",
              "\n",
              "    .dataframe tbody tr th {\n",
              "        vertical-align: top;\n",
              "    }\n",
              "\n",
              "    .dataframe thead th {\n",
              "        text-align: right;\n",
              "    }\n",
              "</style>\n",
              "<table border=\"1\" class=\"dataframe\">\n",
              "  <thead>\n",
              "    <tr style=\"text-align: right;\">\n",
              "      <th></th>\n",
              "      <th>Name</th>\n",
              "      <th>Age</th>\n",
              "      <th>Embarked</th>\n",
              "    </tr>\n",
              "  </thead>\n",
              "  <tbody>\n",
              "    <tr>\n",
              "      <th>803</th>\n",
              "      <td>Thomas, Master. Assad Alexander</td>\n",
              "      <td>0.42</td>\n",
              "      <td>C</td>\n",
              "    </tr>\n",
              "  </tbody>\n",
              "</table>\n",
              "</div>"
            ],
            "text/plain": [
              "                                Name   Age Embarked\n",
              "803  Thomas, Master. Assad Alexander  0.42        C"
            ]
          },
          "metadata": {
            "tags": []
          },
          "execution_count": 73
        }
      ]
    },
    {
      "cell_type": "markdown",
      "metadata": {
        "id": "JZY-pq4UtGIP",
        "colab_type": "text"
      },
      "source": [
        "13.หาคนที่จ่ายค่าโดยสารแพงที่สุดพร้อมบอกชื่อ อายุ และรอดชีวิตไหม"
      ]
    },
    {
      "cell_type": "code",
      "metadata": {
        "id": "7FONOSbPpNor",
        "colab_type": "code",
        "colab": {
          "base_uri": "https://localhost:8080/",
          "height": 142
        },
        "outputId": "e86ad509-3ead-4586-fafa-49e2909d4236"
      },
      "source": [
        "df = pd.read_csv('https://raw.githubusercontent.com/hvisor/Homework_datacamp_2/master/train.csv',na_values={'Age':['']})\n",
        "maxFare = df['Fare'].max()\n",
        "df2 = df[df['Fare']==maxFare]\n",
        "df2[['Name','Fare','Survived']]"
      ],
      "execution_count": 75,
      "outputs": [
        {
          "output_type": "execute_result",
          "data": {
            "text/html": [
              "<div>\n",
              "<style scoped>\n",
              "    .dataframe tbody tr th:only-of-type {\n",
              "        vertical-align: middle;\n",
              "    }\n",
              "\n",
              "    .dataframe tbody tr th {\n",
              "        vertical-align: top;\n",
              "    }\n",
              "\n",
              "    .dataframe thead th {\n",
              "        text-align: right;\n",
              "    }\n",
              "</style>\n",
              "<table border=\"1\" class=\"dataframe\">\n",
              "  <thead>\n",
              "    <tr style=\"text-align: right;\">\n",
              "      <th></th>\n",
              "      <th>Name</th>\n",
              "      <th>Fare</th>\n",
              "      <th>Survived</th>\n",
              "    </tr>\n",
              "  </thead>\n",
              "  <tbody>\n",
              "    <tr>\n",
              "      <th>258</th>\n",
              "      <td>Ward, Miss. Anna</td>\n",
              "      <td>512.3292</td>\n",
              "      <td>1</td>\n",
              "    </tr>\n",
              "    <tr>\n",
              "      <th>679</th>\n",
              "      <td>Cardeza, Mr. Thomas Drake Martinez</td>\n",
              "      <td>512.3292</td>\n",
              "      <td>1</td>\n",
              "    </tr>\n",
              "    <tr>\n",
              "      <th>737</th>\n",
              "      <td>Lesurer, Mr. Gustave J</td>\n",
              "      <td>512.3292</td>\n",
              "      <td>1</td>\n",
              "    </tr>\n",
              "  </tbody>\n",
              "</table>\n",
              "</div>"
            ],
            "text/plain": [
              "                                   Name      Fare  Survived\n",
              "258                    Ward, Miss. Anna  512.3292         1\n",
              "679  Cardeza, Mr. Thomas Drake Martinez  512.3292         1\n",
              "737              Lesurer, Mr. Gustave J  512.3292         1"
            ]
          },
          "metadata": {
            "tags": []
          },
          "execution_count": 75
        }
      ]
    },
    {
      "cell_type": "markdown",
      "metadata": {
        "id": "uQL65nB1tI3i",
        "colab_type": "text"
      },
      "source": [
        "14.หาคนที่จ่ายค่าโดยสารถูกที่สุดพร้อมบอกชื่อ อายุ และรอดชีวิตไหม"
      ]
    },
    {
      "cell_type": "code",
      "metadata": {
        "id": "xzGs90UJpmUN",
        "colab_type": "code",
        "colab": {
          "base_uri": "https://localhost:8080/",
          "height": 514
        },
        "outputId": "f6ed2af0-00fa-4a9a-9674-227825c4314b"
      },
      "source": [
        "df = pd.read_csv('https://raw.githubusercontent.com/hvisor/Homework_datacamp_2/master/train.csv',na_values={'Age':['']})\n",
        "minFare = df['Fare'].min()\n",
        "df2 = df[df['Fare']==minFare]\n",
        "df2[['Name','Fare','Survived']]"
      ],
      "execution_count": 76,
      "outputs": [
        {
          "output_type": "execute_result",
          "data": {
            "text/html": [
              "<div>\n",
              "<style scoped>\n",
              "    .dataframe tbody tr th:only-of-type {\n",
              "        vertical-align: middle;\n",
              "    }\n",
              "\n",
              "    .dataframe tbody tr th {\n",
              "        vertical-align: top;\n",
              "    }\n",
              "\n",
              "    .dataframe thead th {\n",
              "        text-align: right;\n",
              "    }\n",
              "</style>\n",
              "<table border=\"1\" class=\"dataframe\">\n",
              "  <thead>\n",
              "    <tr style=\"text-align: right;\">\n",
              "      <th></th>\n",
              "      <th>Name</th>\n",
              "      <th>Fare</th>\n",
              "      <th>Survived</th>\n",
              "    </tr>\n",
              "  </thead>\n",
              "  <tbody>\n",
              "    <tr>\n",
              "      <th>179</th>\n",
              "      <td>Leonard, Mr. Lionel</td>\n",
              "      <td>0.0</td>\n",
              "      <td>0</td>\n",
              "    </tr>\n",
              "    <tr>\n",
              "      <th>263</th>\n",
              "      <td>Harrison, Mr. William</td>\n",
              "      <td>0.0</td>\n",
              "      <td>0</td>\n",
              "    </tr>\n",
              "    <tr>\n",
              "      <th>271</th>\n",
              "      <td>Tornquist, Mr. William Henry</td>\n",
              "      <td>0.0</td>\n",
              "      <td>1</td>\n",
              "    </tr>\n",
              "    <tr>\n",
              "      <th>277</th>\n",
              "      <td>Parkes, Mr. Francis \"Frank\"</td>\n",
              "      <td>0.0</td>\n",
              "      <td>0</td>\n",
              "    </tr>\n",
              "    <tr>\n",
              "      <th>302</th>\n",
              "      <td>Johnson, Mr. William Cahoone Jr</td>\n",
              "      <td>0.0</td>\n",
              "      <td>0</td>\n",
              "    </tr>\n",
              "    <tr>\n",
              "      <th>413</th>\n",
              "      <td>Cunningham, Mr. Alfred Fleming</td>\n",
              "      <td>0.0</td>\n",
              "      <td>0</td>\n",
              "    </tr>\n",
              "    <tr>\n",
              "      <th>466</th>\n",
              "      <td>Campbell, Mr. William</td>\n",
              "      <td>0.0</td>\n",
              "      <td>0</td>\n",
              "    </tr>\n",
              "    <tr>\n",
              "      <th>481</th>\n",
              "      <td>Frost, Mr. Anthony Wood \"Archie\"</td>\n",
              "      <td>0.0</td>\n",
              "      <td>0</td>\n",
              "    </tr>\n",
              "    <tr>\n",
              "      <th>597</th>\n",
              "      <td>Johnson, Mr. Alfred</td>\n",
              "      <td>0.0</td>\n",
              "      <td>0</td>\n",
              "    </tr>\n",
              "    <tr>\n",
              "      <th>633</th>\n",
              "      <td>Parr, Mr. William Henry Marsh</td>\n",
              "      <td>0.0</td>\n",
              "      <td>0</td>\n",
              "    </tr>\n",
              "    <tr>\n",
              "      <th>674</th>\n",
              "      <td>Watson, Mr. Ennis Hastings</td>\n",
              "      <td>0.0</td>\n",
              "      <td>0</td>\n",
              "    </tr>\n",
              "    <tr>\n",
              "      <th>732</th>\n",
              "      <td>Knight, Mr. Robert J</td>\n",
              "      <td>0.0</td>\n",
              "      <td>0</td>\n",
              "    </tr>\n",
              "    <tr>\n",
              "      <th>806</th>\n",
              "      <td>Andrews, Mr. Thomas Jr</td>\n",
              "      <td>0.0</td>\n",
              "      <td>0</td>\n",
              "    </tr>\n",
              "    <tr>\n",
              "      <th>815</th>\n",
              "      <td>Fry, Mr. Richard</td>\n",
              "      <td>0.0</td>\n",
              "      <td>0</td>\n",
              "    </tr>\n",
              "    <tr>\n",
              "      <th>822</th>\n",
              "      <td>Reuchlin, Jonkheer. John George</td>\n",
              "      <td>0.0</td>\n",
              "      <td>0</td>\n",
              "    </tr>\n",
              "  </tbody>\n",
              "</table>\n",
              "</div>"
            ],
            "text/plain": [
              "                                 Name  Fare  Survived\n",
              "179               Leonard, Mr. Lionel   0.0         0\n",
              "263             Harrison, Mr. William   0.0         0\n",
              "271      Tornquist, Mr. William Henry   0.0         1\n",
              "277       Parkes, Mr. Francis \"Frank\"   0.0         0\n",
              "302   Johnson, Mr. William Cahoone Jr   0.0         0\n",
              "413    Cunningham, Mr. Alfred Fleming   0.0         0\n",
              "466             Campbell, Mr. William   0.0         0\n",
              "481  Frost, Mr. Anthony Wood \"Archie\"   0.0         0\n",
              "597               Johnson, Mr. Alfred   0.0         0\n",
              "633     Parr, Mr. William Henry Marsh   0.0         0\n",
              "674        Watson, Mr. Ennis Hastings   0.0         0\n",
              "732              Knight, Mr. Robert J   0.0         0\n",
              "806            Andrews, Mr. Thomas Jr   0.0         0\n",
              "815                  Fry, Mr. Richard   0.0         0\n",
              "822   Reuchlin, Jonkheer. John George   0.0         0"
            ]
          },
          "metadata": {
            "tags": []
          },
          "execution_count": 76
        }
      ]
    },
    {
      "cell_type": "markdown",
      "metadata": {
        "id": "VTvCNfLwtLD5",
        "colab_type": "text"
      },
      "source": [
        "15.สรุปว่ามีคนนั่งตั๋ว 1 2 3 กี่คน"
      ]
    },
    {
      "cell_type": "code",
      "metadata": {
        "id": "eFh-mz4Dpw0x",
        "colab_type": "code",
        "colab": {
          "base_uri": "https://localhost:8080/",
          "height": 85
        },
        "outputId": "b14171e2-897d-4718-f88c-835b752a86ee"
      },
      "source": [
        "df = pd.read_csv('https://raw.githubusercontent.com/hvisor/Homework_datacamp_2/master/train.csv',na_values={'Age':['']})\n",
        "\n",
        "df['Pclass'].value_counts()\n"
      ],
      "execution_count": 99,
      "outputs": [
        {
          "output_type": "execute_result",
          "data": {
            "text/plain": [
              "3    491\n",
              "1    216\n",
              "2    184\n",
              "Name: Pclass, dtype: int64"
            ]
          },
          "metadata": {
            "tags": []
          },
          "execution_count": 99
        }
      ]
    },
    {
      "cell_type": "markdown",
      "metadata": {
        "id": "kKvbnjMWtNIe",
        "colab_type": "text"
      },
      "source": [
        "16.หาค่าเฉลี่ยของตั๋วโดยสารแบบที่นั่งชั้น 1 2 3"
      ]
    },
    {
      "cell_type": "code",
      "metadata": {
        "id": "oveNv7BoyTXa",
        "colab_type": "code",
        "colab": {
          "base_uri": "https://localhost:8080/",
          "height": 173
        },
        "outputId": "ccae17b2-26da-4de1-8cda-c07e24a6f195"
      },
      "source": [
        "df = pd.read_csv('https://raw.githubusercontent.com/hvisor/Homework_datacamp_2/master/train.csv',na_values={'Age':['']})\n",
        "df = df[['Pclass','Fare']]\n",
        "df.groupby('Pclass').mean()\n"
      ],
      "execution_count": 111,
      "outputs": [
        {
          "output_type": "execute_result",
          "data": {
            "text/html": [
              "<div>\n",
              "<style scoped>\n",
              "    .dataframe tbody tr th:only-of-type {\n",
              "        vertical-align: middle;\n",
              "    }\n",
              "\n",
              "    .dataframe tbody tr th {\n",
              "        vertical-align: top;\n",
              "    }\n",
              "\n",
              "    .dataframe thead th {\n",
              "        text-align: right;\n",
              "    }\n",
              "</style>\n",
              "<table border=\"1\" class=\"dataframe\">\n",
              "  <thead>\n",
              "    <tr style=\"text-align: right;\">\n",
              "      <th></th>\n",
              "      <th>Fare</th>\n",
              "    </tr>\n",
              "    <tr>\n",
              "      <th>Pclass</th>\n",
              "      <th></th>\n",
              "    </tr>\n",
              "  </thead>\n",
              "  <tbody>\n",
              "    <tr>\n",
              "      <th>1</th>\n",
              "      <td>84.154687</td>\n",
              "    </tr>\n",
              "    <tr>\n",
              "      <th>2</th>\n",
              "      <td>20.662183</td>\n",
              "    </tr>\n",
              "    <tr>\n",
              "      <th>3</th>\n",
              "      <td>13.675550</td>\n",
              "    </tr>\n",
              "  </tbody>\n",
              "</table>\n",
              "</div>"
            ],
            "text/plain": [
              "             Fare\n",
              "Pclass           \n",
              "1       84.154687\n",
              "2       20.662183\n",
              "3       13.675550"
            ]
          },
          "metadata": {
            "tags": []
          },
          "execution_count": 111
        }
      ]
    },
    {
      "cell_type": "markdown",
      "metadata": {
        "id": "PKMnl5Z0tSlw",
        "colab_type": "text"
      },
      "source": [
        "17.มีผู้โดยสารกี่คนที่อายุเกิน 50 แล้วรอดชีวิต"
      ]
    },
    {
      "cell_type": "code",
      "metadata": {
        "id": "dTHBADfuBRdT",
        "colab_type": "code",
        "colab": {
          "base_uri": "https://localhost:8080/",
          "height": 34
        },
        "outputId": "04278a51-15d3-4290-eeac-94cdb9417185"
      },
      "source": [
        "df = pd.read_csv('https://raw.githubusercontent.com/hvisor/Homework_datacamp_2/master/train.csv',na_values={'Age':['']})\n",
        "\n",
        "df1 = df[(df['Age']>50) & (df['Survived']==1)]\n",
        "\n",
        "print(df1['Age'].count())"
      ],
      "execution_count": 185,
      "outputs": [
        {
          "output_type": "stream",
          "text": [
            "22\n"
          ],
          "name": "stdout"
        }
      ]
    },
    {
      "cell_type": "markdown",
      "metadata": {
        "id": "IW9ECKcQtVGg",
        "colab_type": "text"
      },
      "source": [
        "18.แสดงผลข้อมูลทั้งหมดของที่นั่งชั้น 1 2 3 (describe)"
      ]
    },
    {
      "cell_type": "markdown",
      "metadata": {
        "id": "dAGXp_kRtXZc",
        "colab_type": "text"
      },
      "source": [
        "19.แสดงผลตั๋วที่แพงที่สุดของที่นั่งแต่ละชั้น"
      ]
    },
    {
      "cell_type": "code",
      "metadata": {
        "id": "0qYWFGHnD5MD",
        "colab_type": "code",
        "colab": {
          "base_uri": "https://localhost:8080/",
          "height": 173
        },
        "outputId": "dc89c1ae-d137-4a45-f0ac-343b19fbab54"
      },
      "source": [
        "df = pd.read_csv('https://raw.githubusercontent.com/hvisor/Homework_datacamp_2/master/train.csv',na_values={'Age':['']})\n",
        "df = df[['Pclass','Fare']]\n",
        "df.groupby('Pclass').max()"
      ],
      "execution_count": 186,
      "outputs": [
        {
          "output_type": "execute_result",
          "data": {
            "text/html": [
              "<div>\n",
              "<style scoped>\n",
              "    .dataframe tbody tr th:only-of-type {\n",
              "        vertical-align: middle;\n",
              "    }\n",
              "\n",
              "    .dataframe tbody tr th {\n",
              "        vertical-align: top;\n",
              "    }\n",
              "\n",
              "    .dataframe thead th {\n",
              "        text-align: right;\n",
              "    }\n",
              "</style>\n",
              "<table border=\"1\" class=\"dataframe\">\n",
              "  <thead>\n",
              "    <tr style=\"text-align: right;\">\n",
              "      <th></th>\n",
              "      <th>Fare</th>\n",
              "    </tr>\n",
              "    <tr>\n",
              "      <th>Pclass</th>\n",
              "      <th></th>\n",
              "    </tr>\n",
              "  </thead>\n",
              "  <tbody>\n",
              "    <tr>\n",
              "      <th>1</th>\n",
              "      <td>512.3292</td>\n",
              "    </tr>\n",
              "    <tr>\n",
              "      <th>2</th>\n",
              "      <td>73.5000</td>\n",
              "    </tr>\n",
              "    <tr>\n",
              "      <th>3</th>\n",
              "      <td>69.5500</td>\n",
              "    </tr>\n",
              "  </tbody>\n",
              "</table>\n",
              "</div>"
            ],
            "text/plain": [
              "            Fare\n",
              "Pclass          \n",
              "1       512.3292\n",
              "2        73.5000\n",
              "3        69.5500"
            ]
          },
          "metadata": {
            "tags": []
          },
          "execution_count": 186
        }
      ]
    },
    {
      "cell_type": "markdown",
      "metadata": {
        "id": "rqQTT7cRtZY4",
        "colab_type": "text"
      },
      "source": [
        "20.แสดงเป็นกลุ่มช่วงอายุ 0-10, 20-30 …. (เพิ่มทีละ10) และหาว่าแต่ละกลุ่มมีอัตราการรอดชีวิตเท่าไหร่ "
      ]
    },
    {
      "cell_type": "code",
      "metadata": {
        "id": "C5Ot2Xf9FKy4",
        "colab_type": "code",
        "colab": {
          "base_uri": "https://localhost:8080/",
          "height": 187
        },
        "outputId": "f1100191-287d-428a-e5ec-3193ddcc1a4c"
      },
      "source": [
        "df = pd.read_csv('https://raw.githubusercontent.com/hvisor/Homework_datacamp_2/master/train.csv',na_values={'Age':['']})\n",
        "\n",
        "avg = df['Age'].mean()\n",
        "df['Age'].fillna(value=avg, inplace=True)\n",
        "\n",
        "totalRows = df['Age'].count()\n",
        "\n",
        "df['Age_GRP'] = df['Age'] // 10\n",
        "\n",
        "grouped_single = df.groupby('Age_GRP').agg({'Survived': ['size', 'sum']})\n",
        "\n",
        "# rename columns\n",
        "grouped_single.columns = ['TotalPerson', 'Survived']\n",
        "\n",
        "# reset index to get grouped columns back\n",
        "grouped_single = grouped_single.reset_index()\n",
        "\n",
        "grouped_single['%'] = 100 * grouped_single['Survived'] / grouped_single['TotalPerson']\n",
        "print (grouped_single)\n",
        "\n"
      ],
      "execution_count": 310,
      "outputs": [
        {
          "output_type": "stream",
          "text": [
            "   Age_GRP  TotalPerson  Survived           %\n",
            "0      0.0           62        38   61.290323\n",
            "1      1.0          102        41   40.196078\n",
            "2      2.0          397       129   32.493703\n",
            "3      3.0          167        73   43.712575\n",
            "4      4.0           89        34   38.202247\n",
            "5      5.0           48        20   41.666667\n",
            "6      6.0           19         6   31.578947\n",
            "7      7.0            6         0    0.000000\n",
            "8      8.0            1         1  100.000000\n"
          ],
          "name": "stdout"
        }
      ]
    },
    {
      "cell_type": "markdown",
      "metadata": {
        "id": "pxu7Nr-8tbl6",
        "colab_type": "text"
      },
      "source": [
        "21.เรียงลำดับตามราคามากไปน้อย และน้อยไปมาก"
      ]
    },
    {
      "cell_type": "code",
      "metadata": {
        "id": "zk-2dzgHEGVI",
        "colab_type": "code",
        "colab": {
          "base_uri": "https://localhost:8080/",
          "height": 493
        },
        "outputId": "7d98b310-1391-4760-b3bc-9b7ef2b46e75"
      },
      "source": [
        "df = pd.read_csv('https://raw.githubusercontent.com/hvisor/Homework_datacamp_2/master/train.csv',na_values={'Age':['']})\n",
        "print(df.sort_values('Fare'))\n",
        "\n",
        "print(df.sort_values('Fare')[::-1])"
      ],
      "execution_count": 188,
      "outputs": [
        {
          "output_type": "stream",
          "text": [
            "     PassengerId  Survived  Pclass  ...      Fare        Cabin  Embarked\n",
            "271          272         1       3  ...    0.0000          NaN         S\n",
            "597          598         0       3  ...    0.0000          NaN         S\n",
            "302          303         0       3  ...    0.0000          NaN         S\n",
            "633          634         0       1  ...    0.0000          NaN         S\n",
            "277          278         0       2  ...    0.0000          NaN         S\n",
            "..           ...       ...     ...  ...       ...          ...       ...\n",
            "438          439         0       1  ...  263.0000  C23 C25 C27         S\n",
            "341          342         1       1  ...  263.0000  C23 C25 C27         S\n",
            "737          738         1       1  ...  512.3292         B101         C\n",
            "258          259         1       1  ...  512.3292          NaN         C\n",
            "679          680         1       1  ...  512.3292  B51 B53 B55         C\n",
            "\n",
            "[891 rows x 12 columns]\n",
            "     PassengerId  Survived  Pclass  ...      Fare        Cabin  Embarked\n",
            "679          680         1       1  ...  512.3292  B51 B53 B55         C\n",
            "258          259         1       1  ...  512.3292          NaN         C\n",
            "737          738         1       1  ...  512.3292         B101         C\n",
            "341          342         1       1  ...  263.0000  C23 C25 C27         S\n",
            "438          439         0       1  ...  263.0000  C23 C25 C27         S\n",
            "..           ...       ...     ...  ...       ...          ...       ...\n",
            "277          278         0       2  ...    0.0000          NaN         S\n",
            "633          634         0       1  ...    0.0000          NaN         S\n",
            "302          303         0       3  ...    0.0000          NaN         S\n",
            "597          598         0       3  ...    0.0000          NaN         S\n",
            "271          272         1       3  ...    0.0000          NaN         S\n",
            "\n",
            "[891 rows x 12 columns]\n"
          ],
          "name": "stdout"
        }
      ]
    },
    {
      "cell_type": "markdown",
      "metadata": {
        "id": "04FCLFhrtkpO",
        "colab_type": "text"
      },
      "source": [
        "22.(Optional) หานามสกุลที่ซ้ำกัน และแต่ละนามสกุลที่ซ้ำกันซ้ำกันกี่คน"
      ]
    },
    {
      "cell_type": "code",
      "metadata": {
        "id": "KAjEDv8dRTzV",
        "colab_type": "code",
        "colab": {
          "base_uri": "https://localhost:8080/",
          "height": 1000
        },
        "outputId": "483c3aa7-7e4d-4652-8525-9451510658f8"
      },
      "source": [
        "df = pd.read_csv('https://raw.githubusercontent.com/hvisor/Homework_datacamp_2/master/train.csv',na_values={'Age':['']})\n",
        "\n",
        "# สร้าง Column ใหม่ ตัดเอาแค่ Lastname คำที่อยู่ก่อน ,\n",
        "df['lastname'] = df.apply(lambda x: x['Name'][0:x['Name'].find(',')] , axis=1) \n",
        "# สร้าง Column ใหม่ Check ว่า มี comma มากกว่า 1 ตัว หรือไม่\n",
        "df['chk_comma'] = df.apply(lambda x: x['Name'].count(','), axis=1)\n",
        "\n",
        "# group by\n",
        "grouped_single = df.groupby('lastname').agg({'lastname': ['size', 'count']})\n",
        "\n",
        "# rename columns\n",
        "grouped_single.columns = ['TotalPerson', 'TotalCount']\n",
        "\n",
        "# reset index to get grouped columns back\n",
        "grouped_single = grouped_single.reset_index()\n",
        "\n",
        "grouped_single = grouped_single[grouped_single['TotalCount']>1]\n",
        "\n",
        "for ind in grouped_single.index: \n",
        "     print(grouped_single['lastname'][ind], grouped_single['TotalCount'][ind]) \n",
        "\n"
      ],
      "execution_count": 31,
      "outputs": [
        {
          "output_type": "stream",
          "text": [
            "Abbott 2\n",
            "Abelson 2\n",
            "Ali 2\n",
            "Allen 2\n",
            "Allison 3\n",
            "Andersson 9\n",
            "Andrews 2\n",
            "Arnold-Franchi 2\n",
            "Asplund 4\n",
            "Attalah 2\n",
            "Backstrom 2\n",
            "Baclini 4\n",
            "Barbara 2\n",
            "Baxter 2\n",
            "Beane 2\n",
            "Becker 2\n",
            "Beckwith 2\n",
            "Bishop 2\n",
            "Boulos 3\n",
            "Bourke 3\n",
            "Braund 2\n",
            "Brown 4\n",
            "Cacic 2\n",
            "Caldwell 2\n",
            "Calic 2\n",
            "Carlsson 2\n",
            "Carter 6\n",
            "Chambers 2\n",
            "Chapman 2\n",
            "Coleff 2\n",
            "Collyer 3\n",
            "Coutts 2\n",
            "Crosby 2\n",
            "Daly 2\n",
            "Danbom 2\n",
            "Davies 3\n",
            "Dean 2\n",
            "Dick 2\n",
            "Doling 2\n",
            "Duff Gordon 2\n",
            "Elias 3\n",
            "Flynn 3\n",
            "Ford 4\n",
            "Fortune 4\n",
            "Frauenthal 2\n",
            "Futrelle 2\n",
            "Goldenberg 2\n",
            "Goldsmith 3\n",
            "Goodwin 6\n",
            "Graham 3\n",
            "Gustafsson 4\n",
            "Hagland 2\n",
            "Hakkarainen 2\n",
            "Hamalainen 2\n",
            "Hansen 3\n",
            "Harper 4\n",
            "Harris 4\n",
            "Hart 4\n",
            "Hays 2\n",
            "Herman 2\n",
            "Hickman 3\n",
            "Hippach 2\n",
            "Hocking 2\n",
            "Holverson 2\n",
            "Hoyt 3\n",
            "Jacobsohn 2\n",
            "Jensen 3\n",
            "Johansson 3\n",
            "Johnson 6\n",
            "Johnston 2\n",
            "Jussila 3\n",
            "Kantor 2\n",
            "Keane 2\n",
            "Kelly 4\n",
            "Lam 2\n",
            "Laroche 3\n",
            "Larsson 2\n",
            "Lefebre 4\n",
            "Lobb 2\n",
            "Mallet 2\n",
            "McCoy 2\n",
            "Mellinger 2\n",
            "Meyer 3\n",
            "Minahan 2\n",
            "Moor 2\n",
            "Moran 3\n",
            "Morley 2\n",
            "Moubarek 2\n",
            "Murphy 2\n",
            "Nakid 2\n",
            "Nasser 2\n",
            "Navratil 3\n",
            "Newell 3\n",
            "Nicola-Yarred 2\n",
            "O'Brien 3\n",
            "Olsen 3\n",
            "Olsson 2\n",
            "Oreskovic 2\n",
            "Palsson 4\n",
            "Panula 6\n",
            "Pears 2\n",
            "Penasco y Castellana 2\n",
            "Peter 2\n",
            "Petroff 2\n",
            "Quick 2\n",
            "Renouf 2\n",
            "Rice 5\n",
            "Richards 3\n",
            "Rosblom 2\n",
            "Ryerson 2\n",
            "Saad 2\n",
            "Sage 7\n",
            "Sandstrom 2\n",
            "Silvey 2\n",
            "Skoog 6\n",
            "Smith 4\n",
            "Stanley 2\n",
            "Strom 2\n",
            "Svensson 2\n",
            "Taussig 3\n",
            "Taylor 2\n",
            "Thayer 3\n",
            "Thorneycroft 2\n",
            "Turpin 2\n",
            "Van Impe 3\n",
            "Vander Planke 3\n",
            "Webber 2\n",
            "West 3\n",
            "White 2\n",
            "Wick 2\n",
            "Williams 4\n",
            "Yasbeck 2\n",
            "Zabour 2\n"
          ],
          "name": "stdout"
        }
      ]
    },
    {
      "cell_type": "markdown",
      "metadata": {
        "id": "UJ9ti_dmtm6z",
        "colab_type": "text"
      },
      "source": [
        "23.(Optional) แสดงผลนามสกุลที่ไม่มีการซ้ำกันเลย และนับว่ามีกี่นามสกุล"
      ]
    },
    {
      "cell_type": "code",
      "metadata": {
        "id": "INTWkiB4fWB_",
        "colab_type": "code",
        "colab": {
          "base_uri": "https://localhost:8080/",
          "height": 1000
        },
        "outputId": "f28cad11-f9e9-48eb-f8c6-97c0adf0f863"
      },
      "source": [
        "df = pd.read_csv('https://raw.githubusercontent.com/hvisor/Homework_datacamp_2/master/train.csv',na_values={'Age':['']})\n",
        "\n",
        "# สร้าง Column ใหม่ ตัดเอาแค่ Lastname คำที่อยู่ก่อน ,\n",
        "df['lastname'] = df.apply(lambda x: x['Name'][0:x['Name'].find(',')] , axis=1) \n",
        "# สร้าง Column ใหม่ Check ว่า มี comma มากกว่า 1 ตัว หรือไม่\n",
        "df['chk_comma'] = df.apply(lambda x: x['Name'].count(','), axis=1)\n",
        "\n",
        "# group by\n",
        "grouped_single = df.groupby('lastname').agg({'lastname': ['size', 'count']})\n",
        "\n",
        "# rename columns\n",
        "grouped_single.columns = ['TotalPerson', 'TotalCount']\n",
        "\n",
        "# reset index to get grouped columns back\n",
        "grouped_single = grouped_single.reset_index()\n",
        "\n",
        "grouped_single = grouped_single[grouped_single['TotalCount']==1]\n",
        "\n",
        "print(grouped_single['lastname'].count())\n",
        "for ind in grouped_single.index: \n",
        "     print(grouped_single['lastname'][ind], grouped_single['TotalCount'][ind]) \n"
      ],
      "execution_count": 30,
      "outputs": [
        {
          "output_type": "stream",
          "text": [
            "534\n",
            "Abbing 1\n",
            "Adahl 1\n",
            "Adams 1\n",
            "Ahlin 1\n",
            "Aks 1\n",
            "Albimona 1\n",
            "Alexander 1\n",
            "Alhomaki 1\n",
            "Allum 1\n",
            "Andersen-Jensen 1\n",
            "Anderson 1\n",
            "Andreasson 1\n",
            "Andrew 1\n",
            "Angle 1\n",
            "Appleton 1\n",
            "Artagaveytia 1\n",
            "Asim 1\n",
            "Astor 1\n",
            "Aubart 1\n",
            "Augustsson 1\n",
            "Ayoub 1\n",
            "Badt 1\n",
            "Bailey 1\n",
            "Balkic 1\n",
            "Ball 1\n",
            "Banfield 1\n",
            "Barah 1\n",
            "Barber 1\n",
            "Barkworth 1\n",
            "Barton 1\n",
            "Bateman 1\n",
            "Baumann 1\n",
            "Bazzani 1\n",
            "Beavan 1\n",
            "Beesley 1\n",
            "Behr 1\n",
            "Bengtsson 1\n",
            "Berglund 1\n",
            "Berriman 1\n",
            "Betros 1\n",
            "Bidois 1\n",
            "Bing 1\n",
            "Birkeland 1\n",
            "Bissette 1\n",
            "Bjornstrom-Steffansson 1\n",
            "Blackwell 1\n",
            "Blank 1\n",
            "Bonnell 1\n",
            "Bostandyeff 1\n",
            "Bowen 1\n",
            "Bowerman 1\n",
            "Bracken 1\n",
            "Bradley 1\n",
            "Brewe 1\n",
            "Brocklebank 1\n",
            "Bryhl 1\n",
            "Burke 1\n",
            "Burns 1\n",
            "Buss 1\n",
            "Butler 1\n",
            "Butt 1\n",
            "Byles 1\n",
            "Bystrom 1\n",
            "Cairns 1\n",
            "Calderhead 1\n",
            "Cameron 1\n",
            "Campbell 1\n",
            "Canavan 1\n",
            "Cann 1\n",
            "Caram 1\n",
            "Carbines 1\n",
            "Cardeza 1\n",
            "Carr 1\n",
            "Carrau 1\n",
            "Cavendish 1\n",
            "Celotti 1\n",
            "Chaffee 1\n",
            "Charters 1\n",
            "Cherry 1\n",
            "Chibnall 1\n",
            "Chip 1\n",
            "Christmann 1\n",
            "Christy 1\n",
            "Chronopoulos 1\n",
            "Clarke 1\n",
            "Cleaver 1\n",
            "Clifford 1\n",
            "Coelho 1\n",
            "Cohen 1\n",
            "Coleridge 1\n",
            "Collander 1\n",
            "Colley 1\n",
            "Compton 1\n",
            "Connaghton 1\n",
            "Connolly 1\n",
            "Connors 1\n",
            "Cook 1\n",
            "Cor 1\n",
            "Corn 1\n",
            "Coxon 1\n",
            "Crease 1\n",
            "Cribb 1\n",
            "Culumovic 1\n",
            "Cumings 1\n",
            "Cunningham 1\n",
            "Dahl 1\n",
            "Dahlberg 1\n",
            "Dakic 1\n",
            "Daniel 1\n",
            "Danoff 1\n",
            "Dantcheff 1\n",
            "Davidson 1\n",
            "Davis 1\n",
            "Davison 1\n",
            "Denkoff 1\n",
            "Dennis 1\n",
            "Devaney 1\n",
            "Dimic 1\n",
            "Dodge 1\n",
            "Doharr 1\n",
            "Dooley 1\n",
            "Dorking 1\n",
            "Douglas 1\n",
            "Dowdell 1\n",
            "Downton 1\n",
            "Drazenoic 1\n",
            "Drew 1\n",
            "Duane 1\n",
            "Duran y More 1\n",
            "Edvardsson 1\n",
            "Eitemiller 1\n",
            "Eklund 1\n",
            "Ekstrom 1\n",
            "Elsbury 1\n",
            "Emanuel 1\n",
            "Emir 1\n",
            "Endres 1\n",
            "Eustis 1\n",
            "Fahlstrom 1\n",
            "Farrell 1\n",
            "Farthing 1\n",
            "Faunthorpe 1\n",
            "Fischer 1\n",
            "Fleming 1\n",
            "Foo 1\n",
            "Foreman 1\n",
            "Fox 1\n",
            "Francatelli 1\n",
            "Frolicher 1\n",
            "Frolicher-Stehli 1\n",
            "Frost 1\n",
            "Fry 1\n",
            "Funk 1\n",
            "Fynney 1\n",
            "Gale 1\n",
            "Gallagher 1\n",
            "Garfirth 1\n",
            "Garside 1\n",
            "Gaskell 1\n",
            "Gavey 1\n",
            "Gee 1\n",
            "Gheorgheff 1\n",
            "Giglio 1\n",
            "Giles 1\n",
            "Gilinski 1\n",
            "Gill 1\n",
            "Gillespie 1\n",
            "Gilnagh 1\n",
            "Givard 1\n",
            "Glynn 1\n",
            "Goldschmidt 1\n",
            "Goncalves 1\n",
            "Green 1\n",
            "Greenberg 1\n",
            "Greenfield 1\n",
            "Gronnestad 1\n",
            "Guggenheim 1\n",
            "Haas 1\n",
            "Hale 1\n",
            "Hampe 1\n",
            "Hanna 1\n",
            "Harder 1\n",
            "Harknett 1\n",
            "Harmer 1\n",
            "Harrington 1\n",
            "Harrison 1\n",
            "Hassab 1\n",
            "Hassan 1\n",
            "Hawksford 1\n",
            "Healy 1\n",
            "Hedman 1\n",
            "Hegarty 1\n",
            "Heikkinen 1\n",
            "Heininen 1\n",
            "Hendekovic 1\n",
            "Henry 1\n",
            "Hewlett 1\n",
            "Hirvonen 1\n",
            "Hodges 1\n",
            "Hogeboom 1\n",
            "Hold 1\n",
            "Holm 1\n",
            "Homer 1\n",
            "Honkanen 1\n",
            "Hood 1\n",
            "Horgan 1\n",
            "Hosono 1\n",
            "Humblen 1\n",
            "Hunt 1\n",
            "Ibrahim Shawah 1\n",
            "Icard 1\n",
            "Ilett 1\n",
            "Ilmakangas 1\n",
            "Isham 1\n",
            "Ivanoff 1\n",
            "Jalsevac 1\n",
            "Jansson 1\n",
            "Jardin 1\n",
            "Jarvis 1\n",
            "Jenkin 1\n",
            "Jermyn 1\n",
            "Jerwan 1\n",
            "Johannesen-Bratthammer 1\n",
            "Johanson 1\n",
            "Jonkoff 1\n",
            "Jonsson 1\n",
            "Kallio 1\n",
            "Kalvik 1\n",
            "Karaic 1\n",
            "Karlsson 1\n",
            "Karun 1\n",
            "Kassem 1\n",
            "Keefe 1\n",
            "Kent 1\n",
            "Kenyon 1\n",
            "Kiernan 1\n",
            "Kilgannon 1\n",
            "Kimball 1\n",
            "Kink 1\n",
            "Kink-Heilmann 1\n",
            "Kirkland 1\n",
            "Klaber 1\n",
            "Klasen 1\n",
            "Knight 1\n",
            "Kraeff 1\n",
            "Kvillner 1\n",
            "Lahoud 1\n",
            "Lahtinen 1\n",
            "Laitinen 1\n",
            "Laleff 1\n",
            "Landergren 1\n",
            "Lang 1\n",
            "LeRoy 1\n",
            "Leader 1\n",
            "Leeni 1\n",
            "Lehmann 1\n",
            "Leinonen 1\n",
            "Leitch 1\n",
            "Lemberopolous 1\n",
            "Lemore 1\n",
            "Lennon 1\n",
            "Leonard 1\n",
            "Lester 1\n",
            "Lesurer 1\n",
            "Levy 1\n",
            "Lewy 1\n",
            "Leyson 1\n",
            "Lievens 1\n",
            "Lindahl 1\n",
            "Lindblom 1\n",
            "Lindell 1\n",
            "Lindqvist 1\n",
            "Lines 1\n",
            "Ling 1\n",
            "Long 1\n",
            "Longley 1\n",
            "Louch 1\n",
            "Lovell 1\n",
            "Lulic 1\n",
            "Lundahl 1\n",
            "Lurette 1\n",
            "Mack 1\n",
            "Madigan 1\n",
            "Madill 1\n",
            "Madsen 1\n",
            "Maenpaa 1\n",
            "Maioni 1\n",
            "Maisner 1\n",
            "Mamee 1\n",
            "Mangan 1\n",
            "Mannion 1\n",
            "Marechal 1\n",
            "Markoff 1\n",
            "Markun 1\n",
            "Marvin 1\n",
            "Masselmani 1\n",
            "Matthews 1\n",
            "Mayne 1\n",
            "McCarthy 1\n",
            "McCormack 1\n",
            "McDermott 1\n",
            "McEvoy 1\n",
            "McGough 1\n",
            "McGovern 1\n",
            "McGowan 1\n",
            "McKane 1\n",
            "McMahon 1\n",
            "McNamee 1\n",
            "Meanwell 1\n",
            "Meek 1\n",
            "Mellors 1\n",
            "Meo 1\n",
            "Mernagh 1\n",
            "Millet 1\n",
            "Milling 1\n",
            "Mineff 1\n",
            "Mionoff 1\n",
            "Mitchell 1\n",
            "Mitkoff 1\n",
            "Mockler 1\n",
            "Moen 1\n",
            "Molson 1\n",
            "Montvila 1\n",
            "Moore 1\n",
            "Moraweck 1\n",
            "Morrow 1\n",
            "Moss 1\n",
            "Moussa 1\n",
            "Moutal 1\n",
            "Mudd 1\n",
            "Mullens 1\n",
            "Murdlin 1\n",
            "Myhrman 1\n",
            "Naidenoff 1\n",
            "Najib 1\n",
            "Nankoff 1\n",
            "Natsch 1\n",
            "Nenkoff 1\n",
            "Newsom 1\n",
            "Nicholls 1\n",
            "Nicholson 1\n",
            "Nilsson 1\n",
            "Nirva 1\n",
            "Niskanen 1\n",
            "Norman 1\n",
            "Nosworthy 1\n",
            "Novel 1\n",
            "Nye 1\n",
            "Nysten 1\n",
            "Nysveen 1\n",
            "O'Connell 1\n",
            "O'Connor 1\n",
            "O'Driscoll 1\n",
            "O'Dwyer 1\n",
            "O'Leary 1\n",
            "O'Sullivan 1\n",
            "Odahl 1\n",
            "Ohman 1\n",
            "Olsvigen 1\n",
            "Osen 1\n",
            "Osman 1\n",
            "Ostby 1\n",
            "Otter 1\n",
            "Padro y Manent 1\n",
            "Pain 1\n",
            "Parkes 1\n",
            "Parr 1\n",
            "Parrish 1\n",
            "Partner 1\n",
            "Pasic 1\n",
            "Patchett 1\n",
            "Paulner 1\n",
            "Pavlovic 1\n",
            "Peduzzi 1\n",
            "Pekoniemi 1\n",
            "Pengelly 1\n",
            "Perkin 1\n",
            "Pernot 1\n",
            "Perreault 1\n",
            "Persson 1\n",
            "Peters 1\n",
            "Petranec 1\n",
            "Petterson 1\n",
            "Pettersson 1\n",
            "Peuchen 1\n",
            "Phillips 1\n",
            "Pickard 1\n",
            "Pinsky 1\n",
            "Plotcharsky 1\n",
            "Ponesell 1\n",
            "Porter 1\n",
            "Potter 1\n",
            "Radeff 1\n",
            "Razi 1\n",
            "Reed 1\n",
            "Reeves 1\n",
            "Rekic 1\n",
            "Reuchlin 1\n",
            "Reynaldo 1\n",
            "Richard 1\n",
            "Ridsdale 1\n",
            "Ringhini 1\n",
            "Rintamaki 1\n",
            "Risien 1\n",
            "Robbins 1\n",
            "Robert 1\n",
            "Robins 1\n",
            "Roebling 1\n",
            "Rogers 1\n",
            "Romaine 1\n",
            "Rommetvedt 1\n",
            "Rood 1\n",
            "Ross 1\n",
            "Rothes 1\n",
            "Rothschild 1\n",
            "Rouse 1\n",
            "Rugg 1\n",
            "Rush 1\n",
            "Ryan 1\n",
            "Saalfeld 1\n",
            "Sadlier 1\n",
            "Sagesser 1\n",
            "Salkjelsvik 1\n",
            "Salonen 1\n",
            "Samaan 1\n",
            "Saundercock 1\n",
            "Sawyer 1\n",
            "Scanlan 1\n",
            "Sdycoff 1\n",
            "Sedgwick 1\n",
            "Serepeca 1\n",
            "Seward 1\n",
            "Sharp 1\n",
            "Sheerlinck 1\n",
            "Shellard 1\n",
            "Shelley 1\n",
            "Shorney 1\n",
            "Shutes 1\n",
            "Silven 1\n",
            "Silverthorne 1\n",
            "Simmons 1\n",
            "Simonius-Blumer 1\n",
            "Sinkkonen 1\n",
            "Sirayanian 1\n",
            "Sirota 1\n",
            "Sivic 1\n",
            "Sivola 1\n",
            "Sjoblom 1\n",
            "Sjostedt 1\n",
            "Slabenoff 1\n",
            "Slayter 1\n",
            "Slemen 1\n",
            "Slocovski 1\n",
            "Sloper 1\n",
            "Smart 1\n",
            "Smiljanic 1\n",
            "Sobey 1\n",
            "Soholt 1\n",
            "Somerton 1\n",
            "Spedden 1\n",
            "Spencer 1\n",
            "Stahelin-Maeglin 1\n",
            "Staneff 1\n",
            "Stankovic 1\n",
            "Stead 1\n",
            "Stephenson 1\n",
            "Stewart 1\n",
            "Stone 1\n",
            "Stoytcheff 1\n",
            "Strandberg 1\n",
            "Stranden 1\n",
            "Sunderland 1\n",
            "Sundman 1\n",
            "Sutehall 1\n",
            "Sutton 1\n",
            "Swift 1\n",
            "Theobald 1\n",
            "Thomas 1\n",
            "Thorne 1\n",
            "Tikkanen 1\n",
            "Tobin 1\n",
            "Todoroff 1\n",
            "Tomlin 1\n",
            "Toomey 1\n",
            "Torber 1\n",
            "Tornquist 1\n",
            "Toufik 1\n",
            "Touma 1\n",
            "Troupiansky 1\n",
            "Trout 1\n",
            "Troutt 1\n",
            "Turcin 1\n",
            "Turja 1\n",
            "Turkula 1\n",
            "Uruchurtu 1\n",
            "Van der hoef 1\n",
            "Vande Velde 1\n",
            "Vande Walle 1\n",
            "Vanden Steen 1\n",
            "Vander Cruyssen 1\n",
            "Vestrom 1\n",
            "Vovk 1\n",
            "Waelens 1\n",
            "Walker 1\n",
            "Ward 1\n",
            "Warren 1\n",
            "Watson 1\n",
            "Watt 1\n",
            "Weir 1\n",
            "Weisz 1\n",
            "Wells 1\n",
            "Wheadon 1\n",
            "Widegren 1\n",
            "Widener 1\n",
            "Wiklund 1\n",
            "Wilhelms 1\n",
            "Willey 1\n",
            "Williams-Lambert 1\n",
            "Windelov 1\n",
            "Wiseman 1\n",
            "Woolner 1\n",
            "Wright 1\n",
            "Young 1\n",
            "Youseff 1\n",
            "Yousif 1\n",
            "Yousseff 1\n",
            "Yrois 1\n",
            "Zimmerman 1\n",
            "de Messemaeker 1\n",
            "de Mulder 1\n",
            "de Pelsmaeker 1\n",
            "del Carlo 1\n",
            "van Billiard 1\n",
            "van Melkebeke 1\n"
          ],
          "name": "stdout"
        }
      ]
    }
  ]
}