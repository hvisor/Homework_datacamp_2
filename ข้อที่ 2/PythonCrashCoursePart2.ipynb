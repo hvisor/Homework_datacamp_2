{
  "cells": [
    {
      "cell_type": "code",
      "execution_count": 2,
      "metadata": {},
      "outputs": [
        {
          "output_type": "stream",
          "name": "stdout",
          "text": "hhh\n"
        }
      ],
      "source": [
        "# hhhhhhhhhhhhhhhhhh\n",
        "print('hhh')"
      ]
    },
    {
      "cell_type": "code",
      "execution_count": null,
      "metadata": {},
      "outputs": [],
      "source": []
    }
  ],
  "metadata": {
    "colab": {
      "name": "PythonCrashCoursePart2.ipynb",
      "provenance": [],
      "authorship_tag": "ABX9TyO9GXWNZ3/OAqAR9TGBXAfF",
      "include_colab_link": true
    },
    "kernelspec": {
      "name": "python38364bit1bbcb3ced3e34aa69380f629fc63a952",
      "display_name": "Python 3.8.3 64-bit"
    }
  },
  "nbformat": 4,
  "nbformat_minor": 0
}